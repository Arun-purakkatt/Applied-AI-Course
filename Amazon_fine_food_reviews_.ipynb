{
  "nbformat": 4,
  "nbformat_minor": 0,
  "metadata": {
    "colab": {
      "name": "Amazon_fine_food_reviews_.ipynb",
      "provenance": [],
      "toc_visible": true,
      "mount_file_id": "1OdDxMZ5boEGAE_5VuoIUN5-Qz8xhv-Xc",
      "authorship_tag": "ABX9TyMHzslm5PcaF8YVLzymu6zg",
      "include_colab_link": true
    },
    "kernelspec": {
      "name": "python3",
      "display_name": "Python 3"
    }
  },
  "cells": [
    {
      "cell_type": "markdown",
      "metadata": {
        "id": "view-in-github",
        "colab_type": "text"
      },
      "source": [
        "<a href=\"https://colab.research.google.com/github/Arun-purakkatt/Applied-AI-Course/blob/master/Amazon_fine_food_reviews_.ipynb\" target=\"_parent\"><img src=\"https://colab.research.google.com/assets/colab-badge.svg\" alt=\"Open In Colab\"/></a>"
      ]
    },
    {
      "cell_type": "code",
      "metadata": {
        "id": "Ze-SaljZ-WuF",
        "colab_type": "code",
        "colab": {}
      },
      "source": [
        "%matplotlib inline\n",
        "import warnings\n",
        "warnings.filterwarnings(\"ignore\")\n",
        "\n",
        "\n",
        "\n",
        "import sqlite3\n",
        "import pandas as pd\n",
        "import numpy as np\n",
        "import nltk\n",
        "import string\n",
        "import matplotlib.pyplot as plt\n",
        "import seaborn as sns\n",
        "from sklearn.feature_extraction.text import TfidfTransformer\n",
        "from sklearn.feature_extraction.text import TfidfVectorizer\n",
        "\n",
        "from sklearn.feature_extraction.text import CountVectorizer\n",
        "from sklearn.metrics import confusion_matrix\n",
        "from sklearn import metrics\n",
        "from sklearn.metrics import roc_curve, auc\n",
        "from nltk.stem.porter import PorterStemmer\n",
        "\n",
        "import re\n",
        "# Tutorial about Python regular expressions: https://pymotw.com/2/re/\n",
        "import string\n",
        "from nltk.corpus import stopwords\n",
        "from nltk.stem import PorterStemmer\n",
        "from nltk.stem.wordnet import WordNetLemmatizer\n",
        "\n",
        "from gensim.models import Word2Vec\n",
        "from gensim.models import KeyedVectors\n",
        "import pickle\n",
        "\n",
        "from tqdm import tqdm\n",
        "import os\n"
      ],
      "execution_count": 0,
      "outputs": []
    },
    {
      "cell_type": "code",
      "metadata": {
        "id": "2Idr8GDnAA4m",
        "colab_type": "code",
        "outputId": "3b20f760-d03a-40f6-932b-866453f59347",
        "colab": {
          "base_uri": "https://localhost:8080/",
          "height": 54
        }
      },
      "source": [
        "#Mount google drive \n",
        "from google.colab import drive\n",
        "drive.mount('/content/gdrive')\n"
      ],
      "execution_count": 0,
      "outputs": [
        {
          "output_type": "stream",
          "text": [
            "Drive already mounted at /content/gdrive; to attempt to forcibly remount, call drive.mount(\"/content/gdrive\", force_remount=True).\n"
          ],
          "name": "stdout"
        }
      ]
    },
    {
      "cell_type": "code",
      "metadata": {
        "id": "WTFNPo7FAA1T",
        "colab_type": "code",
        "colab": {}
      },
      "source": [
        "# using the SQLite Table to read data.\n",
        "# using the SQLite Table to read data.\n",
        "con = sqlite3.connect('/content/drive/My Drive/database.sqlite') \n",
        "#filtering only positive and negative reviews i.e. \n",
        "# not taking into consideration those reviews with Score=3\n",
        "# SELECT * FROM Reviews WHERE Score != 3 LIMIT 500000, will give top 500000 data points\n",
        "# you can change the number to any other number based on your computing power\n",
        "\n",
        "# filtered_data = pd.read_sql_query(\"\"\" SELECT * FROM Reviews WHERE Score != 3 LIMIT 500000\"\"\", con) \n",
        "# for tsne assignment you can take 5k data points\n"
      ],
      "execution_count": 0,
      "outputs": []
    },
    {
      "cell_type": "code",
      "metadata": {
        "id": "8q_fMPV-Cd6j",
        "colab_type": "code",
        "colab": {}
      },
      "source": [
        "#filtering only positive and negative reviews i.e. \n",
        "# not taking into consideration those reviews with Score=3\n",
        "filtered_data = pd.read_sql_query(\"\"\"\n",
        "SELECT *\n",
        "FROM Reviews\n",
        "WHERE Score != 3\n",
        "\"\"\", con) "
      ],
      "execution_count": 0,
      "outputs": []
    },
    {
      "cell_type": "code",
      "metadata": {
        "id": "G53rgzNzyHpY",
        "colab_type": "code",
        "colab": {}
      },
      "source": [
        "# Give reviews with Score>3 a positive rating, and reviews with a score<3 a negative rating.\n",
        "def partition(x):\n",
        "  if x<3:   \n",
        "    return 'negative'\n",
        "  return 'positive'\n",
        "\n",
        "#changing reviews with score less than 3 to be positive and vice-versa\n",
        "actualScore=filtered_data['Score']\n",
        "positiveNegative=actualScore.map(partition)\n",
        "filtered_data['Score']=positiveNegative"
      ],
      "execution_count": 0,
      "outputs": []
    },
    {
      "cell_type": "code",
      "metadata": {
        "id": "qqFHGKPx2ILr",
        "colab_type": "code",
        "outputId": "eef93bf9-ea28-427c-be80-a01813d75901",
        "colab": {
          "base_uri": "https://localhost:8080/",
          "height": 700
        }
      },
      "source": [
        "print(filtered_data.shape)\n",
        "filtered_data.head()"
      ],
      "execution_count": 7,
      "outputs": [
        {
          "output_type": "stream",
          "text": [
            "(525814, 10)\n"
          ],
          "name": "stdout"
        },
        {
          "output_type": "execute_result",
          "data": {
            "text/html": [
              "<div>\n",
              "<style scoped>\n",
              "    .dataframe tbody tr th:only-of-type {\n",
              "        vertical-align: middle;\n",
              "    }\n",
              "\n",
              "    .dataframe tbody tr th {\n",
              "        vertical-align: top;\n",
              "    }\n",
              "\n",
              "    .dataframe thead th {\n",
              "        text-align: right;\n",
              "    }\n",
              "</style>\n",
              "<table border=\"1\" class=\"dataframe\">\n",
              "  <thead>\n",
              "    <tr style=\"text-align: right;\">\n",
              "      <th></th>\n",
              "      <th>Id</th>\n",
              "      <th>ProductId</th>\n",
              "      <th>UserId</th>\n",
              "      <th>ProfileName</th>\n",
              "      <th>HelpfulnessNumerator</th>\n",
              "      <th>HelpfulnessDenominator</th>\n",
              "      <th>Score</th>\n",
              "      <th>Time</th>\n",
              "      <th>Summary</th>\n",
              "      <th>Text</th>\n",
              "    </tr>\n",
              "  </thead>\n",
              "  <tbody>\n",
              "    <tr>\n",
              "      <th>0</th>\n",
              "      <td>1</td>\n",
              "      <td>B001E4KFG0</td>\n",
              "      <td>A3SGXH7AUHU8GW</td>\n",
              "      <td>delmartian</td>\n",
              "      <td>1</td>\n",
              "      <td>1</td>\n",
              "      <td>positive</td>\n",
              "      <td>1303862400</td>\n",
              "      <td>Good Quality Dog Food</td>\n",
              "      <td>I have bought several of the Vitality canned d...</td>\n",
              "    </tr>\n",
              "    <tr>\n",
              "      <th>1</th>\n",
              "      <td>2</td>\n",
              "      <td>B00813GRG4</td>\n",
              "      <td>A1D87F6ZCVE5NK</td>\n",
              "      <td>dll pa</td>\n",
              "      <td>0</td>\n",
              "      <td>0</td>\n",
              "      <td>negative</td>\n",
              "      <td>1346976000</td>\n",
              "      <td>Not as Advertised</td>\n",
              "      <td>Product arrived labeled as Jumbo Salted Peanut...</td>\n",
              "    </tr>\n",
              "    <tr>\n",
              "      <th>2</th>\n",
              "      <td>3</td>\n",
              "      <td>B000LQOCH0</td>\n",
              "      <td>ABXLMWJIXXAIN</td>\n",
              "      <td>Natalia Corres \"Natalia Corres\"</td>\n",
              "      <td>1</td>\n",
              "      <td>1</td>\n",
              "      <td>positive</td>\n",
              "      <td>1219017600</td>\n",
              "      <td>\"Delight\" says it all</td>\n",
              "      <td>This is a confection that has been around a fe...</td>\n",
              "    </tr>\n",
              "    <tr>\n",
              "      <th>3</th>\n",
              "      <td>4</td>\n",
              "      <td>B000UA0QIQ</td>\n",
              "      <td>A395BORC6FGVXV</td>\n",
              "      <td>Karl</td>\n",
              "      <td>3</td>\n",
              "      <td>3</td>\n",
              "      <td>negative</td>\n",
              "      <td>1307923200</td>\n",
              "      <td>Cough Medicine</td>\n",
              "      <td>If you are looking for the secret ingredient i...</td>\n",
              "    </tr>\n",
              "    <tr>\n",
              "      <th>4</th>\n",
              "      <td>5</td>\n",
              "      <td>B006K2ZZ7K</td>\n",
              "      <td>A1UQRSCLF8GW1T</td>\n",
              "      <td>Michael D. Bigham \"M. Wassir\"</td>\n",
              "      <td>0</td>\n",
              "      <td>0</td>\n",
              "      <td>positive</td>\n",
              "      <td>1350777600</td>\n",
              "      <td>Great taffy</td>\n",
              "      <td>Great taffy at a great price.  There was a wid...</td>\n",
              "    </tr>\n",
              "  </tbody>\n",
              "</table>\n",
              "</div>"
            ],
            "text/plain": [
              "   Id  ...                                               Text\n",
              "0   1  ...  I have bought several of the Vitality canned d...\n",
              "1   2  ...  Product arrived labeled as Jumbo Salted Peanut...\n",
              "2   3  ...  This is a confection that has been around a fe...\n",
              "3   4  ...  If you are looking for the secret ingredient i...\n",
              "4   5  ...  Great taffy at a great price.  There was a wid...\n",
              "\n",
              "[5 rows x 10 columns]"
            ]
          },
          "metadata": {
            "tags": []
          },
          "execution_count": 7
        }
      ]
    },
    {
      "cell_type": "markdown",
      "metadata": {
        "id": "gZRKBAXH2r8x",
        "colab_type": "text"
      },
      "source": [
        "Exploratory Data Analysis\n",
        "\n",
        "Data Cleaning: Deduplication\n",
        "\n",
        "It is observed (as shown in the table below) that the reviews data had many duplicate entries. Hence it was necessary to remove duplicates in order to get unbiased results for the analysis of the data. Following is an example:"
      ]
    },
    {
      "cell_type": "code",
      "metadata": {
        "id": "VpWfZKTn2QvJ",
        "colab_type": "code",
        "outputId": "88f90499-4241-419b-ce5c-4ed5b75b9c1a",
        "colab": {
          "base_uri": "https://localhost:8080/",
          "height": 564
        }
      },
      "source": [
        "display=pd.read_sql_query(\"\"\"\n",
        "SELECT *\n",
        "FROM Reviews\n",
        "WHERE Score !=3 AND UserId=\"AR5J8UI46CURR\"\n",
        "ORDER BY ProductID\n",
        "\"\"\",con)\n",
        "display"
      ],
      "execution_count": 8,
      "outputs": [
        {
          "output_type": "execute_result",
          "data": {
            "text/html": [
              "<div>\n",
              "<style scoped>\n",
              "    .dataframe tbody tr th:only-of-type {\n",
              "        vertical-align: middle;\n",
              "    }\n",
              "\n",
              "    .dataframe tbody tr th {\n",
              "        vertical-align: top;\n",
              "    }\n",
              "\n",
              "    .dataframe thead th {\n",
              "        text-align: right;\n",
              "    }\n",
              "</style>\n",
              "<table border=\"1\" class=\"dataframe\">\n",
              "  <thead>\n",
              "    <tr style=\"text-align: right;\">\n",
              "      <th></th>\n",
              "      <th>Id</th>\n",
              "      <th>ProductId</th>\n",
              "      <th>UserId</th>\n",
              "      <th>ProfileName</th>\n",
              "      <th>HelpfulnessNumerator</th>\n",
              "      <th>HelpfulnessDenominator</th>\n",
              "      <th>Score</th>\n",
              "      <th>Time</th>\n",
              "      <th>Summary</th>\n",
              "      <th>Text</th>\n",
              "    </tr>\n",
              "  </thead>\n",
              "  <tbody>\n",
              "    <tr>\n",
              "      <th>0</th>\n",
              "      <td>78445</td>\n",
              "      <td>B000HDL1RQ</td>\n",
              "      <td>AR5J8UI46CURR</td>\n",
              "      <td>Geetha Krishnan</td>\n",
              "      <td>2</td>\n",
              "      <td>2</td>\n",
              "      <td>5</td>\n",
              "      <td>1199577600</td>\n",
              "      <td>LOACKER QUADRATINI VANILLA WAFERS</td>\n",
              "      <td>DELICIOUS WAFERS. I FIND THAT EUROPEAN WAFERS ...</td>\n",
              "    </tr>\n",
              "    <tr>\n",
              "      <th>1</th>\n",
              "      <td>138317</td>\n",
              "      <td>B000HDOPYC</td>\n",
              "      <td>AR5J8UI46CURR</td>\n",
              "      <td>Geetha Krishnan</td>\n",
              "      <td>2</td>\n",
              "      <td>2</td>\n",
              "      <td>5</td>\n",
              "      <td>1199577600</td>\n",
              "      <td>LOACKER QUADRATINI VANILLA WAFERS</td>\n",
              "      <td>DELICIOUS WAFERS. I FIND THAT EUROPEAN WAFERS ...</td>\n",
              "    </tr>\n",
              "    <tr>\n",
              "      <th>2</th>\n",
              "      <td>138277</td>\n",
              "      <td>B000HDOPYM</td>\n",
              "      <td>AR5J8UI46CURR</td>\n",
              "      <td>Geetha Krishnan</td>\n",
              "      <td>2</td>\n",
              "      <td>2</td>\n",
              "      <td>5</td>\n",
              "      <td>1199577600</td>\n",
              "      <td>LOACKER QUADRATINI VANILLA WAFERS</td>\n",
              "      <td>DELICIOUS WAFERS. I FIND THAT EUROPEAN WAFERS ...</td>\n",
              "    </tr>\n",
              "    <tr>\n",
              "      <th>3</th>\n",
              "      <td>73791</td>\n",
              "      <td>B000HDOPZG</td>\n",
              "      <td>AR5J8UI46CURR</td>\n",
              "      <td>Geetha Krishnan</td>\n",
              "      <td>2</td>\n",
              "      <td>2</td>\n",
              "      <td>5</td>\n",
              "      <td>1199577600</td>\n",
              "      <td>LOACKER QUADRATINI VANILLA WAFERS</td>\n",
              "      <td>DELICIOUS WAFERS. I FIND THAT EUROPEAN WAFERS ...</td>\n",
              "    </tr>\n",
              "    <tr>\n",
              "      <th>4</th>\n",
              "      <td>155049</td>\n",
              "      <td>B000PAQ75C</td>\n",
              "      <td>AR5J8UI46CURR</td>\n",
              "      <td>Geetha Krishnan</td>\n",
              "      <td>2</td>\n",
              "      <td>2</td>\n",
              "      <td>5</td>\n",
              "      <td>1199577600</td>\n",
              "      <td>LOACKER QUADRATINI VANILLA WAFERS</td>\n",
              "      <td>DELICIOUS WAFERS. I FIND THAT EUROPEAN WAFERS ...</td>\n",
              "    </tr>\n",
              "  </tbody>\n",
              "</table>\n",
              "</div>"
            ],
            "text/plain": [
              "       Id  ...                                               Text\n",
              "0   78445  ...  DELICIOUS WAFERS. I FIND THAT EUROPEAN WAFERS ...\n",
              "1  138317  ...  DELICIOUS WAFERS. I FIND THAT EUROPEAN WAFERS ...\n",
              "2  138277  ...  DELICIOUS WAFERS. I FIND THAT EUROPEAN WAFERS ...\n",
              "3   73791  ...  DELICIOUS WAFERS. I FIND THAT EUROPEAN WAFERS ...\n",
              "4  155049  ...  DELICIOUS WAFERS. I FIND THAT EUROPEAN WAFERS ...\n",
              "\n",
              "[5 rows x 10 columns]"
            ]
          },
          "metadata": {
            "tags": []
          },
          "execution_count": 8
        }
      ]
    },
    {
      "cell_type": "markdown",
      "metadata": {
        "id": "4YpJT7-M3uQq",
        "colab_type": "text"
      },
      "source": [
        "As can be seen above the same user has multiple reviews of the with the same values for HelpfulnessNumerator, HelpfulnessDenominator, Score, Time, Summary and Text and on doing analysis it was found that\n",
        "\n",
        "ProductId=B000HDOPZG was Loacker Quadratini Vanilla Wafer Cookies, 8.82-Ounce Packages (Pack of 8)\n",
        "\n",
        "ProductId=B000HDL1RQ was Loacker Quadratini Lemon Wafer Cookies, 8.82-Ounce Packages (Pack of 8) and so on\n",
        "\n",
        "It was inferred after analysis that reviews with same parameters other than ProductId belonged to the same product just having different flavour or quantity. Hence in order to reduce redundancy it was decided to eliminate the rows having same parameters.\n",
        "\n",
        "The method used for the same was that we first sort the data according to ProductId and then just keep the first similar product review and delelte the others. for eg. in the above just the review for ProductId=B000HDL1RQ remains. This method ensures that there is only one representative for each product and deduplication without sorting would lead to possibility of different representatives still existing for the same product."
      ]
    },
    {
      "cell_type": "markdown",
      "metadata": {
        "id": "bjPH_4h83uEe",
        "colab_type": "text"
      },
      "source": [
        ""
      ]
    },
    {
      "cell_type": "code",
      "metadata": {
        "id": "n9kgKs_O3ilp",
        "colab_type": "code",
        "colab": {}
      },
      "source": [
        "#Sorting data according to ProductId in ascending order\n",
        "sorted_data=filtered_data.sort_values('ProductId',axis=0,ascending=True,inplace=False,kind='quicksort',na_position='last')"
      ],
      "execution_count": 0,
      "outputs": []
    },
    {
      "cell_type": "code",
      "metadata": {
        "id": "X511SOmz5O_s",
        "colab_type": "code",
        "outputId": "00967920-ead3-478f-f394-d01f10a8154c",
        "colab": {
          "base_uri": "https://localhost:8080/",
          "height": 34
        }
      },
      "source": [
        "#Deduplication of entries\n",
        "final=sorted_data.drop_duplicates(subset={\"UserId\",\"ProfileName\",\"Time\",\"Text\"},keep='first',inplace=False)\n",
        "final.shape"
      ],
      "execution_count": 10,
      "outputs": [
        {
          "output_type": "execute_result",
          "data": {
            "text/plain": [
              "(364173, 10)"
            ]
          },
          "metadata": {
            "tags": []
          },
          "execution_count": 10
        }
      ]
    },
    {
      "cell_type": "code",
      "metadata": {
        "id": "mSt2Uk997fru",
        "colab_type": "code",
        "outputId": "d9fd6a49-2c24-4d6e-900d-55d796b7431b",
        "colab": {
          "base_uri": "https://localhost:8080/",
          "height": 34
        }
      },
      "source": [
        "#Checking to see how much % of data still remains\n",
        "(final['Id'].size*1.0)/(filtered_data['Id'].size*1.0)*100\n"
      ],
      "execution_count": 11,
      "outputs": [
        {
          "output_type": "execute_result",
          "data": {
            "text/plain": [
              "69.25890143662969"
            ]
          },
          "metadata": {
            "tags": []
          },
          "execution_count": 11
        }
      ]
    },
    {
      "cell_type": "markdown",
      "metadata": {
        "id": "aE1N7jP77s8F",
        "colab_type": "text"
      },
      "source": [
        "Observation:- It was also seen that in two rows given below the value of HelpfulnessNumerator is greater than HelpfulnessDenominator which is not practically possible hence these two rows too are removed from calcualtions"
      ]
    },
    {
      "cell_type": "code",
      "metadata": {
        "id": "h6Cn2F4r7phV",
        "colab_type": "code",
        "outputId": "b0cceef7-242e-423c-83de-463264e2659b",
        "colab": {
          "base_uri": "https://localhost:8080/",
          "height": 335
        }
      },
      "source": [
        "display= pd.read_sql_query(\"\"\"\n",
        "SELECT *\n",
        "FROM Reviews\n",
        "WHERE Score != 3 AND Id=44737 OR Id=64422\n",
        "ORDER BY ProductID\n",
        "\"\"\", con)\n",
        "display\n"
      ],
      "execution_count": 12,
      "outputs": [
        {
          "output_type": "execute_result",
          "data": {
            "text/html": [
              "<div>\n",
              "<style scoped>\n",
              "    .dataframe tbody tr th:only-of-type {\n",
              "        vertical-align: middle;\n",
              "    }\n",
              "\n",
              "    .dataframe tbody tr th {\n",
              "        vertical-align: top;\n",
              "    }\n",
              "\n",
              "    .dataframe thead th {\n",
              "        text-align: right;\n",
              "    }\n",
              "</style>\n",
              "<table border=\"1\" class=\"dataframe\">\n",
              "  <thead>\n",
              "    <tr style=\"text-align: right;\">\n",
              "      <th></th>\n",
              "      <th>Id</th>\n",
              "      <th>ProductId</th>\n",
              "      <th>UserId</th>\n",
              "      <th>ProfileName</th>\n",
              "      <th>HelpfulnessNumerator</th>\n",
              "      <th>HelpfulnessDenominator</th>\n",
              "      <th>Score</th>\n",
              "      <th>Time</th>\n",
              "      <th>Summary</th>\n",
              "      <th>Text</th>\n",
              "    </tr>\n",
              "  </thead>\n",
              "  <tbody>\n",
              "    <tr>\n",
              "      <th>0</th>\n",
              "      <td>64422</td>\n",
              "      <td>B000MIDROQ</td>\n",
              "      <td>A161DK06JJMCYF</td>\n",
              "      <td>J. E. Stephens \"Jeanne\"</td>\n",
              "      <td>3</td>\n",
              "      <td>1</td>\n",
              "      <td>5</td>\n",
              "      <td>1224892800</td>\n",
              "      <td>Bought This for My Son at College</td>\n",
              "      <td>My son loves spaghetti so I didn't hesitate or...</td>\n",
              "    </tr>\n",
              "    <tr>\n",
              "      <th>1</th>\n",
              "      <td>44737</td>\n",
              "      <td>B001EQ55RW</td>\n",
              "      <td>A2V0I904FH7ABY</td>\n",
              "      <td>Ram</td>\n",
              "      <td>3</td>\n",
              "      <td>2</td>\n",
              "      <td>4</td>\n",
              "      <td>1212883200</td>\n",
              "      <td>Pure cocoa taste with crunchy almonds inside</td>\n",
              "      <td>It was almost a 'love at first bite' - the per...</td>\n",
              "    </tr>\n",
              "  </tbody>\n",
              "</table>\n",
              "</div>"
            ],
            "text/plain": [
              "      Id  ...                                               Text\n",
              "0  64422  ...  My son loves spaghetti so I didn't hesitate or...\n",
              "1  44737  ...  It was almost a 'love at first bite' - the per...\n",
              "\n",
              "[2 rows x 10 columns]"
            ]
          },
          "metadata": {
            "tags": []
          },
          "execution_count": 12
        }
      ]
    },
    {
      "cell_type": "code",
      "metadata": {
        "id": "Kasr58Pz76CQ",
        "colab_type": "code",
        "colab": {}
      },
      "source": [
        "final=final[final.HelpfulnessNumerator<=final.HelpfulnessDenominator]\n"
      ],
      "execution_count": 0,
      "outputs": []
    },
    {
      "cell_type": "code",
      "metadata": {
        "id": "_ro3ptFV8Dkm",
        "colab_type": "code",
        "outputId": "2692c780-7f80-4f45-8afc-3b5f400b2dff",
        "colab": {
          "base_uri": "https://localhost:8080/",
          "height": 85
        }
      },
      "source": [
        "#Before starting the next phase of preprocessing lets see the number of entries left\n",
        "print(final.shape)\n",
        "\n",
        "#How many positive and negative reviews are present in our dataset?\n",
        "final['Score'].value_counts()\n"
      ],
      "execution_count": 14,
      "outputs": [
        {
          "output_type": "stream",
          "text": [
            "(364171, 10)\n"
          ],
          "name": "stdout"
        },
        {
          "output_type": "execute_result",
          "data": {
            "text/plain": [
              "positive    307061\n",
              "negative     57110\n",
              "Name: Score, dtype: int64"
            ]
          },
          "metadata": {
            "tags": []
          },
          "execution_count": 14
        }
      ]
    },
    {
      "cell_type": "markdown",
      "metadata": {
        "id": "q5UUYmkU8IUO",
        "colab_type": "text"
      },
      "source": [
        "7.2.3 Text Preprocessing: Stemming, stop-word removal and Lemmatization.\n",
        "\n",
        "Now that we have finished deduplication our data requires some preprocessing before we go on further with analysis and making the prediction model.\n",
        "\n",
        "Hence in the Preprocessing phase we do the following in the order below:-\n",
        "\n",
        "Begin by removing the html tags\n",
        "\n",
        "Remove any punctuations or limited set of special characters like , or . or # etc.\n",
        "\n",
        "Check if the word is made up of english letters and is not alpha-numeric\n",
        "\n",
        "Check to see if the length of the word is greater than 2 (as it was researched that there is no adjective in 2-letters)\n",
        "\n",
        "Convert the word to lowercase\n",
        "\n",
        "Remove Stopwords\n",
        "\n",
        "Finally Snowball Stemming the word (it was obsereved to be better than Porter Stemming)\n",
        "\n",
        "After which we collect the words used to describe positive and negative reviews\n",
        "\n"
      ]
    },
    {
      "cell_type": "code",
      "metadata": {
        "id": "ZZiwxKDa8XHw",
        "colab_type": "code",
        "outputId": "67acb039-f7e3-461f-d6e2-cbb8238c0d8c",
        "colab": {
          "base_uri": "https://localhost:8080/",
          "height": 71
        }
      },
      "source": [
        "# find sentences containing HTML tags\n",
        "i=0\n",
        "for sent in final['Text'].values:\n",
        "    if(len(re.findall('<.*?>',sent))):\n",
        "       print(i)\n",
        "       print(sent)\n",
        "       break;\n",
        "    i+=1;"
      ],
      "execution_count": 15,
      "outputs": [
        {
          "output_type": "stream",
          "text": [
            "6\n",
            "I set aside at least an hour each day to read to my son (3 y/o). At this point, I consider myself a connoisseur of children's books and this is one of the best. Santa Clause put this under the tree. Since then, we've read it perpetually and he loves it.<br /><br />First, this book taught him the months of the year.<br /><br />Second, it's a pleasure to read. Well suited to 1.5 y/o old to 4+.<br /><br />Very few children's books are worth owning. Most should be borrowed from the library. This book, however, deserves a permanent spot on your shelf. Sendak's best.\n"
          ],
          "name": "stdout"
        }
      ]
    },
    {
      "cell_type": "code",
      "metadata": {
        "id": "DXUGhHyw_tbH",
        "colab_type": "code",
        "outputId": "df368c55-05bf-43dc-e7dc-41a64019916f",
        "colab": {
          "base_uri": "https://localhost:8080/",
          "height": 122
        }
      },
      "source": [
        "import re\n",
        "# Tutorial about Python regular expressions: https://pymotw.com/2/re/\n",
        "import string\n",
        "from nltk.corpus import stopwords\n",
        "from nltk.stem import PorterStemmer\n",
        "from nltk.stem.wordnet import WordNetLemmatizer\n",
        "nltk.download('stopwords')\n",
        "\n",
        "\n",
        "stop= set(stopwords.words('english'))#set of all stop words\n",
        "sno = nltk.stem.SnowballStemmer('english')#Initialise snowballstemmer\n",
        "\n",
        "def cleanhtml(sentence):#function to clean the word of any html tags\n",
        "    cleanr=re.compile('<.*?>')\n",
        "    cleantext=re.sub(cleanr,' ',sentence)\n",
        "    return cleantext\n",
        "def cleanpunc(sentence): #function to clean the word of any punctuation or special characters\n",
        "    cleaned = re.sub(r'[?|!|\\'|\"|#]',r'',sentence)\n",
        "    cleaned = re.sub(r'[.|,|)|(|\\|/]',r' ',cleaned)\n",
        "    return  cleaned\n",
        "print(stop)\n",
        "print('************************************')\n",
        "print(sno.stem('tasty'))"
      ],
      "execution_count": 16,
      "outputs": [
        {
          "output_type": "stream",
          "text": [
            "[nltk_data] Downloading package stopwords to /root/nltk_data...\n",
            "[nltk_data]   Unzipping corpora/stopwords.zip.\n",
            "{'weren', 'out', 'this', 'of', 'so', 'doesn', 'ma', 'too', 'are', 'while', 'when', 'm', 'above', 'all', 'itself', 'myself', \"that'll\", 'now', 'some', 'with', 'those', 'just', \"aren't\", 'hadn', 'mustn', 'did', 'a', 'until', \"hasn't\", 'having', 'because', 'whom', 'herself', 'off', 'there', 'other', 'again', 'through', 'the', 'wouldn', \"mightn't\", 'had', 'am', 'from', 'wasn', 'such', 'do', 'it', 'which', 'he', 'doing', 'an', 'as', \"she's\", 'more', 'who', \"haven't\", 'no', \"needn't\", \"couldn't\", 'on', \"wasn't\", 'over', 'during', \"hadn't\", 'by', 'only', 'but', 'be', 'how', 'me', 'you', 'own', 'hasn', \"weren't\", 'our', 'their', 'very', \"you'll\", \"didn't\", 'were', 'd', 'each', 'my', 'o', 'if', 'your', 'its', \"doesn't\", 'haven', \"shouldn't\", 'down', 'ours', 'her', 'his', 'they', 've', 'why', 'yourself', 'most', 'didn', 'she', 'is', 'between', \"shan't\", 'up', \"wouldn't\", 'and', \"don't\", 'any', 'under', 'mightn', 's', 'into', 'been', 'yours', 'these', \"isn't\", 'will', 'theirs', \"you'd\", 'once', 'i', 'after', 'shouldn', 'does', 'aren', 'll', \"mustn't\", 'we', 'both', 'before', 'should', 'was', 'isn', 'yourselves', 'in', 'won', 'that', \"should've\", 'hers', 'have', 'nor', 'himself', 'here', \"you're\", 'below', 'then', \"it's\", 'few', 'where', 'can', 'couldn', 'ourselves', 'being', 'at', 're', 'y', 't', 'against', 'has', 'to', 'further', 'not', 'them', \"you've\", 'what', 'ain', 'about', 'same', 'needn', 'themselves', 'or', 'shan', 'than', 'don', 'for', 'him', \"won't\"}\n",
            "************************************\n",
            "tasti\n"
          ],
          "name": "stdout"
        }
      ]
    },
    {
      "cell_type": "code",
      "metadata": {
        "id": "J__UDtkkAxdC",
        "colab_type": "code",
        "colab": {}
      },
      "source": [
        "#Code for implementing step-by-step the checks mentioned in the pre-processing phase\n",
        "# this code takes a while to run as it needs to run on 500k sentences.\n",
        "i=0\n",
        "str1=' '\n",
        "final_string=[]\n",
        "all_positive_words=[] # store words from +ve reviews here\n",
        "all_negative_words=[] # store words from -ve reviews here.\n",
        "s=''\n",
        "for sent in final['Text'].values:\n",
        "    filtered_sentence=[]\n",
        "    #print(sent);\n",
        "    sent=cleanhtml(sent) # remove HTMl tags\n",
        "    for w in sent.split():\n",
        "        for cleaned_words in cleanpunc(w).split():\n",
        "            if((cleaned_words.isalpha()) & (len(cleaned_words)>2)):    \n",
        "                if(cleaned_words.lower() not in stop):\n",
        "                    s=(sno.stem(cleaned_words.lower())).encode('utf8')\n",
        "                    filtered_sentence.append(s)\n",
        "                    if (final['Score'].values)[i] == 'positive': \n",
        "                        all_positive_words.append(s) #list of all words used to describe positive reviews\n",
        "                    if(final['Score'].values)[i] == 'negative':\n",
        "                        all_negative_words.append(s) #list of all words used to describe negative reviews reviews\n",
        "                else:\n",
        "                    continue\n",
        "            else:\n",
        "                continue \n",
        "    #print(filtered_sentence)\n",
        "    str1 = b\" \".join(filtered_sentence) #final string of cleaned words\n",
        "    #print(\"***********************************************************************\")\n",
        "    \n",
        "    final_string.append(str1)\n",
        "    i+=1\n"
      ],
      "execution_count": 0,
      "outputs": []
    },
    {
      "cell_type": "code",
      "metadata": {
        "id": "l5k_MUsjEd3k",
        "colab_type": "code",
        "colab": {}
      },
      "source": [
        "final['CleanedText']=final_string #adding a column of CleanedText which displays the data after pre-processing of the review\n"
      ],
      "execution_count": 0,
      "outputs": []
    },
    {
      "cell_type": "code",
      "metadata": {
        "id": "7Ri8u0FSEme3",
        "colab_type": "code",
        "colab": {}
      },
      "source": [
        "final.head(3) #below the processed review can be seen in the CleanedText Column \n",
        "\n",
        "\n",
        "# store final table into an SQlLite table for future.\n",
        "conn = sqlite3.connect('final.sqlite')\n",
        "c=conn.cursor()\n",
        "conn.text_factory = str\n",
        "final.to_sql('Reviews', conn, schema=None, if_exists='replace', index=True, index_label=None, chunksize=None, dtype=None)"
      ],
      "execution_count": 0,
      "outputs": []
    },
    {
      "cell_type": "code",
      "metadata": {
        "id": "j3zxyWa8GbG1",
        "colab_type": "code",
        "colab": {}
      },
      "source": [
        "# creating pickle file for this 50k data points as \n",
        "# this took huge time to compute\n",
        "\n",
        "\n",
        "import pickle\n",
        "\n",
        "pickle_out = open(\"cleanedData.pickle\",\"wb\")\n",
        "pickle.dump(final,pickle_out)\n",
        "pickle.dump(all_positive_words,pickle_out)\n",
        "pickle.dump(all_negative_words,pickle_out)\n",
        "pickle_out.close()"
      ],
      "execution_count": 0,
      "outputs": []
    },
    {
      "cell_type": "code",
      "metadata": {
        "id": "1T3qzBgOHuAc",
        "colab_type": "code",
        "outputId": "91ee600d-d7c2-4111-b59a-c4052fb104bb",
        "colab": {
          "base_uri": "https://localhost:8080/",
          "height": 1000
        }
      },
      "source": [
        "pickle_in=open(\"cleanedData.pickle\",\"rb\")\n",
        "pik = pickle.load(pickle_in)\n",
        "pik.head(2)\n",
        "all_positive_words = pickle.load(pickle_in)\n",
        "all_negative_words = pickle.load(pickle_in)\n",
        "all_positive_words\n"
      ],
      "execution_count": 21,
      "outputs": [
        {
          "output_type": "execute_result",
          "data": {
            "text/plain": [
              "[b'witti',\n",
              " b'littl',\n",
              " b'book',\n",
              " b'make',\n",
              " b'son',\n",
              " b'laugh',\n",
              " b'loud',\n",
              " b'recit',\n",
              " b'car',\n",
              " b'drive',\n",
              " b'along',\n",
              " b'alway',\n",
              " b'sing',\n",
              " b'refrain',\n",
              " b'hes',\n",
              " b'learn',\n",
              " b'whale',\n",
              " b'india',\n",
              " b'droop',\n",
              " b'love',\n",
              " b'new',\n",
              " b'word',\n",
              " b'book',\n",
              " b'introduc',\n",
              " b'silli',\n",
              " b'classic',\n",
              " b'book',\n",
              " b'will',\n",
              " b'bet',\n",
              " b'son',\n",
              " b'still',\n",
              " b'abl',\n",
              " b'recit',\n",
              " b'memori',\n",
              " b'colleg',\n",
              " b'grew',\n",
              " b'read',\n",
              " b'sendak',\n",
              " b'book',\n",
              " b'watch',\n",
              " b'realli',\n",
              " b'rosi',\n",
              " b'movi',\n",
              " b'incorpor',\n",
              " b'love',\n",
              " b'son',\n",
              " b'love',\n",
              " b'howev',\n",
              " b'miss',\n",
              " b'hard',\n",
              " b'cover',\n",
              " b'version',\n",
              " b'paperback',\n",
              " b'seem',\n",
              " b'kind',\n",
              " b'flimsi',\n",
              " b'take',\n",
              " b'two',\n",
              " b'hand',\n",
              " b'keep',\n",
              " b'page',\n",
              " b'open',\n",
              " b'fun',\n",
              " b'way',\n",
              " b'children',\n",
              " b'learn',\n",
              " b'month',\n",
              " b'year',\n",
              " b'learn',\n",
              " b'poem',\n",
              " b'throughout',\n",
              " b'school',\n",
              " b'year',\n",
              " b'like',\n",
              " b'handmot',\n",
              " b'invent',\n",
              " b'poem',\n",
              " b'great',\n",
              " b'littl',\n",
              " b'book',\n",
              " b'read',\n",
              " b'nice',\n",
              " b'rhythm',\n",
              " b'well',\n",
              " b'good',\n",
              " b'repetit',\n",
              " b'littl',\n",
              " b'one',\n",
              " b'like',\n",
              " b'line',\n",
              " b'chicken',\n",
              " b'soup',\n",
              " b'rice',\n",
              " b'child',\n",
              " b'get',\n",
              " b'month',\n",
              " b'year',\n",
              " b'wonder',\n",
              " b'place',\n",
              " b'like',\n",
              " b'bombay',\n",
              " b'nile',\n",
              " b'eat',\n",
              " b'well',\n",
              " b'know',\n",
              " b'get',\n",
              " b'eat',\n",
              " b'kid',\n",
              " b'mauric',\n",
              " b'sendak',\n",
              " b'version',\n",
              " b'ice',\n",
              " b'skate',\n",
              " b'treat',\n",
              " b'rose',\n",
              " b'head',\n",
              " b'long',\n",
              " b'time',\n",
              " b'wont',\n",
              " b'even',\n",
              " b'know',\n",
              " b'came',\n",
              " b'surpris',\n",
              " b'came',\n",
              " b'littl',\n",
              " b'witti',\n",
              " b'book',\n",
              " b'book',\n",
              " b'poetri',\n",
              " b'month',\n",
              " b'year',\n",
              " b'goe',\n",
              " b'month',\n",
              " b'cute',\n",
              " b'littl',\n",
              " b'poem',\n",
              " b'along',\n",
              " b'love',\n",
              " b'book',\n",
              " b'realli',\n",
              " b'fun',\n",
              " b'way',\n",
              " b'learn',\n",
              " b'month',\n",
              " b'poem',\n",
              " b'creativ',\n",
              " b'author',\n",
              " b'purpos',\n",
              " b'write',\n",
              " b'book',\n",
              " b'give',\n",
              " b'children',\n",
              " b'fun',\n",
              " b'way',\n",
              " b'learn',\n",
              " b'month',\n",
              " b'children',\n",
              " b'also',\n",
              " b'learn',\n",
              " b'thing',\n",
              " b'poetri',\n",
              " b'rhythm',\n",
              " b'read',\n",
              " b'book',\n",
              " b'charm',\n",
              " b'rhyme',\n",
              " b'book',\n",
              " b'describ',\n",
              " b'circumst',\n",
              " b'eat',\n",
              " b'dont',\n",
              " b'chicken',\n",
              " b'soup',\n",
              " b'rice',\n",
              " b'sound',\n",
              " b'like',\n",
              " b'kind',\n",
              " b'thing',\n",
              " b'kid',\n",
              " b'would',\n",
              " b'make',\n",
              " b'theyr',\n",
              " b'recess',\n",
              " b'sing',\n",
              " b'drive',\n",
              " b'teacher',\n",
              " b'crazi',\n",
              " b'cute',\n",
              " b'catchi',\n",
              " b'sound',\n",
              " b'realli',\n",
              " b'childlik',\n",
              " b'skill',\n",
              " b'written',\n",
              " b'set',\n",
              " b'asid',\n",
              " b'least',\n",
              " b'hour',\n",
              " b'day',\n",
              " b'read',\n",
              " b'son',\n",
              " b'point',\n",
              " b'consid',\n",
              " b'connoisseur',\n",
              " b'children',\n",
              " b'book',\n",
              " b'one',\n",
              " b'best',\n",
              " b'santa',\n",
              " b'claus',\n",
              " b'put',\n",
              " b'tree',\n",
              " b'sinc',\n",
              " b'weve',\n",
              " b'read',\n",
              " b'perpetu',\n",
              " b'love',\n",
              " b'first',\n",
              " b'book',\n",
              " b'taught',\n",
              " b'month',\n",
              " b'year',\n",
              " b'second',\n",
              " b'pleasur',\n",
              " b'read',\n",
              " b'well',\n",
              " b'suit',\n",
              " b'old',\n",
              " b'children',\n",
              " b'book',\n",
              " b'worth',\n",
              " b'own',\n",
              " b'borrow',\n",
              " b'librari',\n",
              " b'book',\n",
              " b'howev',\n",
              " b'deserv',\n",
              " b'perman',\n",
              " b'spot',\n",
              " b'shelf',\n",
              " b'sendak',\n",
              " b'best',\n",
              " b'rememb',\n",
              " b'book',\n",
              " b'childhood',\n",
              " b'got',\n",
              " b'kid',\n",
              " b'good',\n",
              " b'rememb',\n",
              " b'kid',\n",
              " b'love',\n",
              " b'older',\n",
              " b'daughter',\n",
              " b'read',\n",
              " b'sister',\n",
              " b'good',\n",
              " b'rhyme',\n",
              " b'nice',\n",
              " b'pictur',\n",
              " b'great',\n",
              " b'book',\n",
              " b'ador',\n",
              " b'illustr',\n",
              " b'true',\n",
              " b'classic',\n",
              " b'kid',\n",
              " b'love',\n",
              " b'poem',\n",
              " b'music',\n",
              " b'goe',\n",
              " b'find',\n",
              " b'think',\n",
              " b'sung',\n",
              " b'carol',\n",
              " b'king',\n",
              " b'book',\n",
              " b'famili',\n",
              " b'favorit',\n",
              " b'read',\n",
              " b'children',\n",
              " b'small',\n",
              " b'order',\n",
              " b'new',\n",
              " b'famili',\n",
              " b'enjoy',\n",
              " b'get',\n",
              " b'movi',\n",
              " b'sound',\n",
              " b'track',\n",
              " b'sing',\n",
              " b'along',\n",
              " b'carol',\n",
              " b'king',\n",
              " b'great',\n",
              " b'stuff',\n",
              " b'whole',\n",
              " b'extend',\n",
              " b'famili',\n",
              " b'know',\n",
              " b'song',\n",
              " b'heart',\n",
              " b'qualiti',\n",
              " b'kid',\n",
              " b'storytel',\n",
              " b'music',\n",
              " b'author',\n",
              " b'wrote',\n",
              " b'wild',\n",
              " b'thing',\n",
              " b'carol',\n",
              " b'king',\n",
              " b'wrote',\n",
              " b'great',\n",
              " b'song',\n",
              " b'match',\n",
              " b'lyric',\n",
              " b'illustr',\n",
              " b'fabul',\n",
              " b'wish',\n",
              " b'could',\n",
              " b'buy',\n",
              " b'hardbound',\n",
              " b'larger',\n",
              " b'tini',\n",
              " b'book',\n",
              " b'easili',\n",
              " b'misplac',\n",
              " b'carri',\n",
              " b'everywher',\n",
              " b'great',\n",
              " b'book',\n",
              " b'perfect',\n",
              " b'condit',\n",
              " b'arriv',\n",
              " b'short',\n",
              " b'amount',\n",
              " b'time',\n",
              " b'long',\n",
              " b'expect',\n",
              " b'deliveri',\n",
              " b'date',\n",
              " b'ive',\n",
              " b'alway',\n",
              " b'love',\n",
              " b'chicken',\n",
              " b'soup',\n",
              " b'rice',\n",
              " b'late',\n",
              " b'ethel',\n",
              " b'alway',\n",
              " b'made',\n",
              " b'homemad',\n",
              " b'chicken',\n",
              " b'chicken',\n",
              " b'soup',\n",
              " b'rice',\n",
              " b'book',\n",
              " b'take',\n",
              " b'back',\n",
              " b'day',\n",
              " b'mother',\n",
              " b'father',\n",
              " b'sister',\n",
              " b'went',\n",
              " b'ethel',\n",
              " b'hous',\n",
              " b'late',\n",
              " b'isador',\n",
              " b'would',\n",
              " b'cook',\n",
              " b'chicken',\n",
              " b'ethel',\n",
              " b'blind',\n",
              " b'remind',\n",
              " b'time',\n",
              " b'togeth',\n",
              " b'famili',\n",
              " b'bring',\n",
              " b'back',\n",
              " b'happi',\n",
              " b'memori',\n",
              " b'love',\n",
              " b'share',\n",
              " b'bowl',\n",
              " b'hot',\n",
              " b'soup',\n",
              " b'book',\n",
              " b'purchas',\n",
              " b'birthday',\n",
              " b'gift',\n",
              " b'year',\n",
              " b'old',\n",
              " b'boy',\n",
              " b'squeal',\n",
              " b'delight',\n",
              " b'hug',\n",
              " b'told',\n",
              " b'keep',\n",
              " b'return',\n",
              " b'librari',\n",
              " b'year',\n",
              " b'old',\n",
              " b'daughter',\n",
              " b'brought',\n",
              " b'book',\n",
              " b'home',\n",
              " b'school',\n",
              " b'librari',\n",
              " b'littl',\n",
              " b'easi',\n",
              " b'read',\n",
              " b'skill',\n",
              " b'love',\n",
              " b'anyway',\n",
              " b'year',\n",
              " b'old',\n",
              " b'daughter',\n",
              " b'start',\n",
              " b'read',\n",
              " b'cant',\n",
              " b'get',\n",
              " b'return',\n",
              " b'school',\n",
              " b'book',\n",
              " b'small',\n",
              " b'better',\n",
              " b'littl',\n",
              " b'hand',\n",
              " b'great',\n",
              " b'book',\n",
              " b'age',\n",
              " b'pictur',\n",
              " b'cute',\n",
              " b'well',\n",
              " b'write',\n",
              " b'rhyme',\n",
              " b'make',\n",
              " b'easi',\n",
              " b'get',\n",
              " b'know',\n",
              " b'month',\n",
              " b'recommend',\n",
              " b'book',\n",
              " b'everi',\n",
              " b'parent',\n",
              " b'book',\n",
              " b'contain',\n",
              " b'collect',\n",
              " b'twelv',\n",
              " b'short',\n",
              " b'statement',\n",
              " b'end',\n",
              " b'phrase',\n",
              " b'chicken',\n",
              " b'soup',\n",
              " b'rice',\n",
              " b'one',\n",
              " b'base',\n",
              " b'month',\n",
              " b'year',\n",
              " b'element',\n",
              " b'nonsens',\n",
              " b'vers',\n",
              " b'reason',\n",
              " b'children',\n",
              " b'find',\n",
              " b'entertain',\n",
              " b'generat',\n",
              " b'giggl',\n",
              " b'young',\n",
              " b'boy',\n",
              " b'describ',\n",
              " b'use',\n",
              " b'chicken',\n",
              " b'soup',\n",
              " b'rice',\n",
              " b'month',\n",
              " b'year',\n",
              " b'sendak',\n",
              " b'creativ',\n",
              " b'repetiti',\n",
              " b'rhythmic',\n",
              " b'word',\n",
              " b'children',\n",
              " b'enjoy',\n",
              " b'learn',\n",
              " b'read',\n",
              " b'stori',\n",
              " b'boy',\n",
              " b'love',\n",
              " b'chicken',\n",
              " b'soup',\n",
              " b'rice',\n",
              " b'sendak',\n",
              " b'catchi',\n",
              " b'stori',\n",
              " b'children',\n",
              " b'also',\n",
              " b'learn',\n",
              " b'month',\n",
              " b'year',\n",
              " b'well',\n",
              " b'season',\n",
              " b'month',\n",
              " b'learn',\n",
              " b'identifi',\n",
              " b'snowmen',\n",
              " b'strong',\n",
              " b'wind',\n",
              " b'bird',\n",
              " b'flower',\n",
              " b'swim',\n",
              " b'hot',\n",
              " b'temperatur',\n",
              " b'final',\n",
              " b'differ',\n",
              " b'holiday',\n",
              " b'throughout',\n",
              " b'year',\n",
              " b'halloween',\n",
              " b'octob',\n",
              " b'christma',\n",
              " b'decemb',\n",
              " b'sendak',\n",
              " b'simpl',\n",
              " b'three',\n",
              " b'color',\n",
              " b'draw',\n",
              " b'perfect',\n",
              " b'addit',\n",
              " b'educ',\n",
              " b'entertain',\n",
              " b'stori',\n",
              " b'great',\n",
              " b'activ',\n",
              " b'book',\n",
              " b'children',\n",
              " b'draw',\n",
              " b'illustr',\n",
              " b'month',\n",
              " b'year',\n",
              " b'afterward',\n",
              " b'bind',\n",
              " b'page',\n",
              " b'togeth',\n",
              " b'children',\n",
              " b'creat',\n",
              " b'book',\n",
              " b'daughter',\n",
              " b'love',\n",
              " b'realli',\n",
              " b'rosi',\n",
              " b'book',\n",
              " b'introduc',\n",
              " b'realli',\n",
              " b'rosi',\n",
              " b'perform',\n",
              " b'carol',\n",
              " b'king',\n",
              " b'also',\n",
              " b'avail',\n",
              " b'amazon',\n",
              " b'birthday',\n",
              " b'year',\n",
              " b'later',\n",
              " b'know',\n",
              " b'song',\n",
              " b'far',\n",
              " b'book',\n",
              " b'one',\n",
              " b'johnni',\n",
              " b'allig',\n",
              " b'around',\n",
              " b'chicken',\n",
              " b'soup',\n",
              " b'rice',\n",
              " b'book',\n",
              " b'well',\n",
              " b'written',\n",
              " b'clever',\n",
              " b'art',\n",
              " b'work',\n",
              " b'mauric',\n",
              " b'sendak',\n",
              " b'plus',\n",
              " b'realli',\n",
              " b'cheap',\n",
              " b'high',\n",
              " b'recommend',\n",
              " b'june',\n",
              " b'saw',\n",
              " b'charm',\n",
              " b'group',\n",
              " b'rose',\n",
              " b'begin',\n",
              " b'droop',\n",
              " b'pep',\n",
              " b'chicken',\n",
              " b'soup',\n",
              " b'sprinkl',\n",
              " b'sprinkl',\n",
              " b'twice',\n",
              " b'sprinkl',\n",
              " b'chicken',\n",
              " b'soup',\n",
              " b'rice',\n",
              " b'great',\n",
              " b'book',\n",
              " b'teach',\n",
              " b'children',\n",
              " b'month',\n",
              " b'year',\n",
              " b'repetit',\n",
              " b'phrase',\n",
              " b'funni',\n",
              " b'littl',\n",
              " b'stori',\n",
              " b'accompani',\n",
              " b'pictur',\n",
              " b'make',\n",
              " b'ideal',\n",
              " b'bedtim',\n",
              " b'read',\n",
              " b'isnt',\n",
              " b'near',\n",
              " b'good',\n",
              " b'sendak',\n",
              " b'book',\n",
              " b'like',\n",
              " b'wild',\n",
              " b'thing',\n",
              " b'boy',\n",
              " b'didnt',\n",
              " b'care',\n",
              " b'still',\n",
              " b'carri',\n",
              " b'uniqu',\n",
              " b'brand',\n",
              " b'charm',\n",
              " b'classic',\n",
              " b'children',\n",
              " b'book',\n",
              " b'cant',\n",
              " b'wrong',\n",
              " b'read',\n",
              " b'kid',\n",
              " b'order',\n",
              " b'later',\n",
              " b'cant',\n",
              " b'beat',\n",
              " b'entertain',\n",
              " b'rhyme',\n",
              " b'catchi',\n",
              " b'illustr',\n",
              " b'imagin',\n",
              " b'fit',\n",
              " b'right',\n",
              " b'howev',\n",
              " b'paperback',\n",
              " b'somewhat',\n",
              " b'small',\n",
              " b'flimsi',\n",
              " b'opt',\n",
              " b'bigger',\n",
              " b'edit',\n",
              " b'chicken',\n",
              " b'soup',\n",
              " b'rice',\n",
              " b'mauric',\n",
              " b'sendak',\n",
              " b'josh',\n",
              " b'grossman',\n",
              " b'colonel',\n",
              " b'facp',\n",
              " b'rural',\n",
              " b'physician',\n",
              " b'author',\n",
              " b'step',\n",
              " b'would',\n",
              " b'believ',\n",
              " b'memor',\n",
              " b'book',\n",
              " b'would',\n",
              " b'believ',\n",
              " b'recit',\n",
              " b'month',\n",
              " b'order',\n",
              " b'would',\n",
              " b'believ',\n",
              " b'read',\n",
              " b'copi',\n",
              " b'tatter',\n",
              " b'read',\n",
              " b'children',\n",
              " b'profession',\n",
              " b'adult',\n",
              " b'would',\n",
              " b'believ',\n",
              " b'grandchildren',\n",
              " b'read',\n",
              " b'copi',\n",
              " b'tatter',\n",
              " b'confid',\n",
              " b'generat',\n",
              " b'children',\n",
              " b'enjoy',\n",
              " b'chicken',\n",
              " b'soup',\n",
              " b'rice',\n",
              " b'bravo',\n",
              " b'thank',\n",
              " b'respect',\n",
              " b'submit',\n",
              " b'wonder',\n",
              " b'littl',\n",
              " b'book',\n",
              " b'love',\n",
              " b'year',\n",
              " b'ago',\n",
              " b'twin',\n",
              " b'love',\n",
              " b'enjoy',\n",
              " b'help',\n",
              " b'finish',\n",
              " b'month',\n",
              " b'sing',\n",
              " b'chicken',\n",
              " b'soup',\n",
              " b'rice',\n",
              " b'cute',\n",
              " b'draw',\n",
              " b'add',\n",
              " b'fun',\n",
              " b'warn',\n",
              " b'one',\n",
              " b'toto',\n",
              " b'children',\n",
              " b'love',\n",
              " b'book',\n",
              " b'first',\n",
              " b'grader',\n",
              " b'got',\n",
              " b'christma',\n",
              " b'love',\n",
              " b'read',\n",
              " b'rhyme',\n",
              " b'proud',\n",
              " b'month',\n",
              " b'teacher',\n",
              " b'work',\n",
              " b'month',\n",
              " b'book',\n",
              " b'read',\n",
              " b'independ',\n",
              " b'yet',\n",
              " b'girl',\n",
              " b'especi',\n",
              " b'enjoy',\n",
              " b'read',\n",
              " b'month',\n",
              " b'born',\n",
              " b'sing',\n",
              " b'go',\n",
              " b'go',\n",
              " b'twice',\n",
              " b'go',\n",
              " b'chicken',\n",
              " b'soup',\n",
              " b'rice',\n",
              " b'book',\n",
              " b'classic',\n",
              " b'rememb',\n",
              " b'childhood',\n",
              " b'high',\n",
              " b'recommend',\n",
              " b'wish',\n",
              " b'book',\n",
              " b'larger',\n",
              " b'size',\n",
              " b'tend',\n",
              " b'get',\n",
              " b'lost',\n",
              " b'bookshelf',\n",
              " b'among',\n",
              " b'regular',\n",
              " b'size',\n",
              " b'book',\n",
              " b'one',\n",
              " b'earliest',\n",
              " b'memori',\n",
              " b'book',\n",
              " b'mother',\n",
              " b'read',\n",
              " b'constant',\n",
              " b'read',\n",
              " b'one',\n",
              " b'quot',\n",
              " b'fact',\n",
              " b'typic',\n",
              " b'sort',\n",
              " b'soup',\n",
              " b'would',\n",
              " b'beg',\n",
              " b'groceri',\n",
              " b'book',\n",
              " b'sinc',\n",
              " b'use',\n",
              " b'book',\n",
              " b'everi',\n",
              " b'class',\n",
              " b'teach',\n",
              " b'situat',\n",
              " b'never',\n",
              " b'met',\n",
              " b'child',\n",
              " b'love',\n",
              " b'ask',\n",
              " b'read',\n",
              " b'sure',\n",
              " b'beat',\n",
              " b'stupid',\n",
              " b'song',\n",
              " b'sing',\n",
              " b'preschool',\n",
              " b'month',\n",
              " b'year',\n",
              " b'even',\n",
              " b'mauric',\n",
              " b'sendak',\n",
              " b'fan',\n",
              " b'enjoy',\n",
              " b'one',\n",
              " b'origin',\n",
              " b'poetic',\n",
              " b'grand',\n",
              " b'daughter',\n",
              " b'favorit',\n",
              " b'book',\n",
              " b'read',\n",
              " b'love',\n",
              " b'rhythm',\n",
              " b'cute',\n",
              " b'stori',\n",
              " b'actual',\n",
              " b'enjoy',\n",
              " b'read',\n",
              " b'copi',\n",
              " b'smaller',\n",
              " b'expect',\n",
              " b'most',\n",
              " b'didnt',\n",
              " b'pay',\n",
              " b'attent',\n",
              " b'list',\n",
              " b'dimens',\n",
              " b'book',\n",
              " b'mauric',\n",
              " b'sendak',\n",
              " b'wonder',\n",
              " b'littl',\n",
              " b'book',\n",
              " b'month',\n",
              " b'rhyme',\n",
              " b'absolut',\n",
              " b'silli',\n",
              " b'much',\n",
              " b'fun',\n",
              " b'read',\n",
              " b'rememb',\n",
              " b'fond',\n",
              " b'child',\n",
              " b'want',\n",
              " b'make',\n",
              " b'sure',\n",
              " b'littl',\n",
              " b'one',\n",
              " b'book',\n",
              " b'shelf',\n",
              " b'cute',\n",
              " b'way',\n",
              " b'teach',\n",
              " b'month',\n",
              " b'year',\n",
              " b'mention',\n",
              " b'celebr',\n",
              " b'person',\n",
              " b'love',\n",
              " b'soup',\n",
              " b'beauti',\n",
              " b'illustr',\n",
              " b'way',\n",
              " b'sendak',\n",
              " b'rememb',\n",
              " b'see',\n",
              " b'show',\n",
              " b'air',\n",
              " b'televis',\n",
              " b'year',\n",
              " b'ago',\n",
              " b'child',\n",
              " b'sister',\n",
              " b'later',\n",
              " b'bought',\n",
              " b'day',\n",
              " b'thirti',\n",
              " b'someth',\n",
              " b'use',\n",
              " b'seri',\n",
              " b'book',\n",
              " b'song',\n",
              " b'student',\n",
              " b'teach',\n",
              " b'preschool',\n",
              " b'turn',\n",
              " b'whole',\n",
              " b'school',\n",
              " b'purchas',\n",
              " b'along',\n",
              " b'book',\n",
              " b'children',\n",
              " b'tradit',\n",
              " b'live',\n",
              " b'day',\n",
              " b'person',\n",
              " b'say',\n",
              " b'chicken',\n",
              " b'soup',\n",
              " b'theyr',\n",
              " b'probabl',\n",
              " b'go',\n",
              " b'follow',\n",
              " b'word',\n",
              " b'soul',\n",
              " b'mayb',\n",
              " b'teenag',\n",
              " b'soul',\n",
              " b'didnt',\n",
              " b'use',\n",
              " b'way',\n",
              " b'rememb',\n",
              " b'time',\n",
              " b'person',\n",
              " b'said',\n",
              " b'chicken',\n",
              " b'soup',\n",
              " b'word',\n",
              " b'follow',\n",
              " b'enthusiast',\n",
              " b'rice',\n",
              " b'power',\n",
              " b'mauric',\n",
              " b'sendak',\n",
              " b'catchi',\n",
              " b'children',\n",
              " b'book',\n",
              " b'pleas',\n",
              " b'report',\n",
              " b'care',\n",
              " b'read',\n",
              " b'book',\n",
              " b'today',\n",
              " b'find',\n",
              " b'hasnt',\n",
              " b'dimish',\n",
              " b'jot',\n",
              " b'term',\n",
              " b'frolicksom',\n",
              " b'fun',\n",
              " b'book',\n",
              " b'led',\n",
              " b'whirlwind',\n",
              " b'chicken',\n",
              " b'soup',\n",
              " b'year',\n",
              " b'host',\n",
              " b'boy',\n",
              " b'bear',\n",
              " b'littl',\n",
              " b'resembl',\n",
              " b'sendak',\n",
              " b'great',\n",
              " b'rhyme',\n",
              " b'tale',\n",
              " b'pierr',\n",
              " b'look',\n",
              " b'demeanor',\n",
              " b'catchi',\n",
              " b'flounci',\n",
              " b'bounci',\n",
              " b'combo',\n",
              " b'soup',\n",
              " b'peopl',\n",
              " b'love',\n",
              " b'ostens',\n",
              " b'book',\n",
              " b'meant',\n",
              " b'teach',\n",
              " b'children',\n",
              " b'differ',\n",
              " b'month',\n",
              " ...]"
            ]
          },
          "metadata": {
            "tags": []
          },
          "execution_count": 21
        }
      ]
    },
    {
      "cell_type": "markdown",
      "metadata": {
        "id": "w5VFeRknMQAu",
        "colab_type": "text"
      },
      "source": [
        "# BOW : Bag Of Words"
      ]
    },
    {
      "cell_type": "code",
      "metadata": {
        "id": "S1Op6AjFILHl",
        "colab_type": "code",
        "colab": {}
      },
      "source": [
        "#BoW\n",
        "count_vect = CountVectorizer() #in scikit-learn\n",
        "final_counts = count_vect.fit_transform(final['Text'].values)\n"
      ],
      "execution_count": 0,
      "outputs": []
    },
    {
      "cell_type": "code",
      "metadata": {
        "id": "TLWExvAoNz1-",
        "colab_type": "code",
        "outputId": "b12dc010-9a10-4fa4-932d-8fafccf21580",
        "colab": {
          "base_uri": "https://localhost:8080/",
          "height": 34
        }
      },
      "source": [
        "type(final_counts)"
      ],
      "execution_count": 23,
      "outputs": [
        {
          "output_type": "execute_result",
          "data": {
            "text/plain": [
              "scipy.sparse.csr.csr_matrix"
            ]
          },
          "metadata": {
            "tags": []
          },
          "execution_count": 23
        }
      ]
    },
    {
      "cell_type": "code",
      "metadata": {
        "id": "RqxSuZ2vN3fY",
        "colab_type": "code",
        "outputId": "23550a6e-af6a-40c2-f183-454036c88586",
        "colab": {
          "base_uri": "https://localhost:8080/",
          "height": 34
        }
      },
      "source": [
        "final_counts.get_shape()\n"
      ],
      "execution_count": 25,
      "outputs": [
        {
          "output_type": "execute_result",
          "data": {
            "text/plain": [
              "(364171, 115281)"
            ]
          },
          "metadata": {
            "tags": []
          },
          "execution_count": 25
        }
      ]
    },
    {
      "cell_type": "markdown",
      "metadata": {
        "id": "-aVDwC7GOs9g",
        "colab_type": "text"
      },
      "source": [
        "Observation: 364171 Reviews and 115281 unique words in the reviews\n",
        "\n"
      ]
    },
    {
      "cell_type": "markdown",
      "metadata": {
        "id": "-2_wN3o9Oyjp",
        "colab_type": "text"
      },
      "source": [
        "# Bi-Grams and N-grams:\n",
        "Now We have all positive and negative reviews in two lists, now lets get the frequency of most common positive reviews and most common negative reviews\n",
        "\n"
      ]
    },
    {
      "cell_type": "code",
      "metadata": {
        "id": "zcyo7p3NOuD1",
        "colab_type": "code",
        "colab": {}
      },
      "source": [
        "freq_dist_positive=nltk.FreqDist(all_positive_words)\n",
        "freq_dist_negative=nltk.FreqDist(all_negative_words)"
      ],
      "execution_count": 0,
      "outputs": []
    },
    {
      "cell_type": "code",
      "metadata": {
        "id": "1SEyGSpGQdv9",
        "colab_type": "code",
        "outputId": "dd32b0a5-4dd6-4dda-806d-76e95bf81cea",
        "colab": {
          "base_uri": "https://localhost:8080/",
          "height": 71
        }
      },
      "source": [
        "print(\"Most Common Positive Words : \",freq_dist_positive.most_common(25))\n",
        "print(\"Most Common Negative Words : \",freq_dist_negative.most_common(25))\n"
      ],
      "execution_count": 27,
      "outputs": [
        {
          "output_type": "stream",
          "text": [
            "Most Common Positive Words :  [(b'like', 139429), (b'tast', 129047), (b'good', 112766), (b'flavor', 109624), (b'love', 107357), (b'use', 103888), (b'great', 103870), (b'one', 96726), (b'product', 91033), (b'tri', 86791), (b'tea', 83888), (b'coffe', 78814), (b'make', 75107), (b'get', 72125), (b'food', 64802), (b'would', 55568), (b'time', 55264), (b'buy', 54198), (b'realli', 52715), (b'eat', 52004), (b'amazon', 49681), (b'price', 48832), (b'also', 48025), (b'find', 48007), (b'much', 47733)]\n",
            "Most Common Negative Words :  [(b'tast', 34585), (b'like', 32330), (b'product', 28218), (b'one', 20569), (b'flavor', 19575), (b'would', 17972), (b'tri', 17753), (b'use', 15302), (b'good', 15041), (b'coffe', 14716), (b'get', 13786), (b'buy', 13752), (b'order', 12871), (b'food', 12754), (b'dont', 11877), (b'tea', 11665), (b'even', 11085), (b'box', 10844), (b'amazon', 10073), (b'make', 9840), (b'time', 9799), (b'bag', 9739), (b'eat', 9515), (b'much', 9440), (b'realli', 9395)]\n"
          ],
          "name": "stdout"
        }
      ]
    },
    {
      "cell_type": "markdown",
      "metadata": {
        "id": "KInNJjpVSl8O",
        "colab_type": "text"
      },
      "source": [
        "Observation:- From the above it can be seen that the most common positive and the negative words overlap for eg. 'like' could be used as 'not like' etc.\n",
        "So, it is a good idea to consider pairs of consequent words (bi-grams) or q sequnce of n consecutive words (n-grams)"
      ]
    },
    {
      "cell_type": "code",
      "metadata": {
        "id": "iZy13GvpSt03",
        "colab_type": "code",
        "colab": {}
      },
      "source": [
        "#bi-gram, tri-gram and n-gram\n",
        "\n",
        "#removing stop words like \"not\" should be avoided before building n-grams\n",
        "# (1,2) indicates unigrams and bigrams if its (1,3) -> uni,bi and trigrams\n",
        "\n",
        "count_vect = CountVectorizer(ngram_range=(1,2) ) #in scikit-learn\n",
        "final_bigram_counts = count_vect.fit_transform(final['Text'].values)"
      ],
      "execution_count": 0,
      "outputs": []
    },
    {
      "cell_type": "code",
      "metadata": {
        "id": "un-jtIsvTNCD",
        "colab_type": "code",
        "outputId": "a3c11701-63fb-49b7-b0b3-a98d84fa8223",
        "colab": {
          "base_uri": "https://localhost:8080/",
          "height": 34
        }
      },
      "source": [
        "final_bigram_counts.get_shape()\n"
      ],
      "execution_count": 29,
      "outputs": [
        {
          "output_type": "execute_result",
          "data": {
            "text/plain": [
              "(364171, 2910192)"
            ]
          },
          "metadata": {
            "tags": []
          },
          "execution_count": 29
        }
      ]
    },
    {
      "cell_type": "code",
      "metadata": {
        "id": "eQpsNETETktM",
        "colab_type": "code",
        "colab": {}
      },
      "source": [
        "#tri-gram and n-gram\n",
        "\n",
        "#removing stop words like \"not\" should be avoided before building n-grams\n",
        "count_vect = CountVectorizer(ngram_range=(1,3) ) #in scikit-learn\n",
        "final_trigram_counts = count_vect.fit_transform(final['Text'].values)"
      ],
      "execution_count": 0,
      "outputs": []
    },
    {
      "cell_type": "code",
      "metadata": {
        "id": "ieiAwSDTb_YR",
        "colab_type": "code",
        "colab": {}
      },
      "source": [
        "count_vect = CountVectorizer(ngram_range=(1,2))\n",
        "final_uni_bigrams_count = count_vect.fit_transform(final['Text'].values)\n"
      ],
      "execution_count": 0,
      "outputs": []
    },
    {
      "cell_type": "code",
      "metadata": {
        "id": "iausZcbhcEuT",
        "colab_type": "code",
        "colab": {}
      },
      "source": [
        "pickle_out = open(\"n_grams.pickle\",\"wb\")\n",
        "pickle.dump(final_uni_bigrams_count,pickle_out)\n",
        "pickle_out.close()"
      ],
      "execution_count": 0,
      "outputs": []
    },
    {
      "cell_type": "code",
      "metadata": {
        "id": "gLSAPQpycIbG",
        "colab_type": "code",
        "colab": {}
      },
      "source": [
        "pickle_in=open(\"n_grams.pickle\",\"rb\")\n",
        "final_uni_bigrams_count = pickle.load(pickle_in)"
      ],
      "execution_count": 0,
      "outputs": []
    },
    {
      "cell_type": "code",
      "metadata": {
        "id": "E1b3SGm7cLQQ",
        "colab_type": "code",
        "outputId": "868859bc-7bcd-4caf-afb4-492150e15134",
        "colab": {
          "base_uri": "https://localhost:8080/",
          "height": 34
        }
      },
      "source": [
        "final_uni_bigrams_count.get_shape()"
      ],
      "execution_count": 35,
      "outputs": [
        {
          "output_type": "execute_result",
          "data": {
            "text/plain": [
              "(364171, 2910192)"
            ]
          },
          "metadata": {
            "tags": []
          },
          "execution_count": 35
        }
      ]
    },
    {
      "cell_type": "markdown",
      "metadata": {
        "id": "5VqCUGnA82vT",
        "colab_type": "text"
      },
      "source": [
        "Observation: here we have 29lakhs unique uni and bigrams In the case of bag of words we got 115281 unique words\n",
        "\n"
      ]
    },
    {
      "cell_type": "markdown",
      "metadata": {
        "id": "W3DQVX-b655u",
        "colab_type": "text"
      },
      "source": [
        "## TFIDF"
      ]
    },
    {
      "cell_type": "code",
      "metadata": {
        "id": "K458Iowq5ink",
        "colab_type": "code",
        "colab": {}
      },
      "source": [
        "tf_idf_vect = TfidfVectorizer(ngram_range=(1,2))\n",
        "final_tf_idf = tf_idf_vect.fit_transform(final['Text'].values)\n"
      ],
      "execution_count": 0,
      "outputs": []
    },
    {
      "cell_type": "code",
      "metadata": {
        "id": "cZoAf1o29wXO",
        "colab_type": "code",
        "outputId": "aa496b9c-9566-457c-83af-3bd41905c852",
        "colab": {
          "base_uri": "https://localhost:8080/",
          "height": 34
        }
      },
      "source": [
        "final_tf_idf.get_shape()\n"
      ],
      "execution_count": 37,
      "outputs": [
        {
          "output_type": "execute_result",
          "data": {
            "text/plain": [
              "(364171, 2910192)"
            ]
          },
          "metadata": {
            "tags": []
          },
          "execution_count": 37
        }
      ]
    },
    {
      "cell_type": "code",
      "metadata": {
        "id": "kOqNQDAF9zVa",
        "colab_type": "code",
        "outputId": "bce23cda-98b6-4ef8-ac54-211ce6a43735",
        "colab": {
          "base_uri": "https://localhost:8080/",
          "height": 51
        }
      },
      "source": [
        "final_tf_idf[1]\n"
      ],
      "execution_count": 0,
      "outputs": [
        {
          "output_type": "execute_result",
          "data": {
            "text/plain": [
              "<1x2910192 sparse matrix of type '<class 'numpy.float64'>'\n",
              "\twith 84 stored elements in Compressed Sparse Row format>"
            ]
          },
          "metadata": {
            "tags": []
          },
          "execution_count": 48
        }
      ]
    },
    {
      "cell_type": "markdown",
      "metadata": {
        "id": "XxgnS7xj95V6",
        "colab_type": "text"
      },
      "source": [
        "Observation: As it is a compressed sparse matrix we cant access the data with index.\n",
        "\n"
      ]
    },
    {
      "cell_type": "code",
      "metadata": {
        "id": "7w9w3bKI96PJ",
        "colab_type": "code",
        "outputId": "b9b88a05-aaf3-4cae-bb82-263f0e52fe44",
        "colab": {
          "base_uri": "https://localhost:8080/",
          "height": 34
        }
      },
      "source": [
        "# we can access the data like this\n",
        "# getting all the unique words from the tf_idf_vect\n",
        "\n",
        "features = tf_idf_vect.get_feature_names()\n",
        "\n",
        "len(features)\n"
      ],
      "execution_count": 38,
      "outputs": [
        {
          "output_type": "execute_result",
          "data": {
            "text/plain": [
              "2910192"
            ]
          },
          "metadata": {
            "tags": []
          },
          "execution_count": 38
        }
      ]
    },
    {
      "cell_type": "code",
      "metadata": {
        "id": "071qPx8_-ROe",
        "colab_type": "code",
        "outputId": "6f9bc16c-e2b9-43d5-8444-669e513c5fcd",
        "colab": {
          "base_uri": "https://localhost:8080/",
          "height": 136
        }
      },
      "source": [
        "features[100000:100010]\n",
        "tf_idf_vect\n"
      ],
      "execution_count": 39,
      "outputs": [
        {
          "output_type": "execute_result",
          "data": {
            "text/plain": [
              "TfidfVectorizer(analyzer='word', binary=False, decode_error='strict',\n",
              "                dtype=<class 'numpy.float64'>, encoding='utf-8',\n",
              "                input='content', lowercase=True, max_df=1.0, max_features=None,\n",
              "                min_df=1, ngram_range=(1, 2), norm='l2', preprocessor=None,\n",
              "                smooth_idf=True, stop_words=None, strip_accents=None,\n",
              "                sublinear_tf=False, token_pattern='(?u)\\\\b\\\\w\\\\w+\\\\b',\n",
              "                tokenizer=None, use_idf=True, vocabulary=None)"
            ]
          },
          "metadata": {
            "tags": []
          },
          "execution_count": 39
        }
      ]
    },
    {
      "cell_type": "markdown",
      "metadata": {
        "id": "ff6cGAgl-d0U",
        "colab_type": "text"
      },
      "source": [
        "Above are the 10 words uni and bi grams\n",
        "\n"
      ]
    },
    {
      "cell_type": "code",
      "metadata": {
        "id": "KWdGjjor-XtN",
        "colab_type": "code",
        "outputId": "a1704c9e-5e20-4f29-b832-b0d2d898a6c1",
        "colab": {
          "base_uri": "https://localhost:8080/",
          "height": 34
        }
      },
      "source": [
        "# To convert a row of sparse matrix to numpy array\n",
        "\n",
        "print(final_tf_idf[100000,:].toarray()[0])\n"
      ],
      "execution_count": 40,
      "outputs": [
        {
          "output_type": "stream",
          "text": [
            "[0. 0. 0. ... 0. 0. 0.]\n"
          ],
          "name": "stdout"
        }
      ]
    },
    {
      "cell_type": "markdown",
      "metadata": {
        "id": "2JcLJFXk-pIH",
        "colab_type": "text"
      },
      "source": [
        "Observation: as its a sparse matrix most of the vals are 0\n",
        "\n"
      ]
    },
    {
      "cell_type": "markdown",
      "metadata": {
        "id": "HuXJcy3c-uLo",
        "colab_type": "text"
      },
      "source": [
        "Function to retrieve top 25 features/words for a given review\n"
      ]
    },
    {
      "cell_type": "code",
      "metadata": {
        "id": "UgVZ4pfC-p8a",
        "colab_type": "code",
        "colab": {}
      },
      "source": [
        "#Function to retrieve top 25 features/words for a given review\n",
        "# source: https://buhrmann.github.io/tfidf-analysis.html\n",
        "def top_tfidf_feats(row,features,top_n=25):\n",
        "    \n",
        "    #here argsort will return the top 25 features indices\n",
        "    topn_ids = np.argsort(row)[::-1][:top_n]\n",
        "    top_feats = [(features[i],row[i]) for i in topn_ids]\n",
        "    \n",
        "    df = pd.DataFrame(top_feats)\n",
        "    df.columns = ['features','tfidf']\n",
        "    return df\n",
        "\n",
        "top_tfidf = top_tfidf_feats(final_tf_idf[10,:].toarray()[0],features,25)\n"
      ],
      "execution_count": 0,
      "outputs": []
    },
    {
      "cell_type": "code",
      "metadata": {
        "id": "IVTeXOIZ_i1n",
        "colab_type": "code",
        "outputId": "f5935653-1a66-45e8-daac-cb17d3120d44",
        "colab": {
          "base_uri": "https://localhost:8080/",
          "height": 824
        }
      },
      "source": [
        "top_tfidf\n"
      ],
      "execution_count": 42,
      "outputs": [
        {
          "output_type": "execute_result",
          "data": {
            "text/html": [
              "<div>\n",
              "<style scoped>\n",
              "    .dataframe tbody tr th:only-of-type {\n",
              "        vertical-align: middle;\n",
              "    }\n",
              "\n",
              "    .dataframe tbody tr th {\n",
              "        vertical-align: top;\n",
              "    }\n",
              "\n",
              "    .dataframe thead th {\n",
              "        text-align: right;\n",
              "    }\n",
              "</style>\n",
              "<table border=\"1\" class=\"dataframe\">\n",
              "  <thead>\n",
              "    <tr style=\"text-align: right;\">\n",
              "      <th></th>\n",
              "      <th>features</th>\n",
              "      <th>tfidf</th>\n",
              "    </tr>\n",
              "  </thead>\n",
              "  <tbody>\n",
              "    <tr>\n",
              "      <th>0</th>\n",
              "      <td>with carol</td>\n",
              "      <td>0.194840</td>\n",
              "    </tr>\n",
              "    <tr>\n",
              "      <th>1</th>\n",
              "      <td>songs by</td>\n",
              "      <td>0.194840</td>\n",
              "    </tr>\n",
              "    <tr>\n",
              "      <th>2</th>\n",
              "      <td>quality kids</td>\n",
              "      <td>0.194840</td>\n",
              "    </tr>\n",
              "    <tr>\n",
              "      <th>3</th>\n",
              "      <td>kids storytelling</td>\n",
              "      <td>0.194840</td>\n",
              "    </tr>\n",
              "    <tr>\n",
              "      <th>4</th>\n",
              "      <td>heart quality</td>\n",
              "      <td>0.194840</td>\n",
              "    </tr>\n",
              "    <tr>\n",
              "      <th>5</th>\n",
              "      <td>or sound</td>\n",
              "      <td>0.194840</td>\n",
              "    </tr>\n",
              "    <tr>\n",
              "      <th>6</th>\n",
              "      <td>storytelling and</td>\n",
              "      <td>0.194840</td>\n",
              "    </tr>\n",
              "    <tr>\n",
              "      <th>7</th>\n",
              "      <td>king this</td>\n",
              "      <td>0.188815</td>\n",
              "    </tr>\n",
              "    <tr>\n",
              "      <th>8</th>\n",
              "      <td>these songs</td>\n",
              "      <td>0.188815</td>\n",
              "    </tr>\n",
              "    <tr>\n",
              "      <th>9</th>\n",
              "      <td>sound track</td>\n",
              "      <td>0.188815</td>\n",
              "    </tr>\n",
              "    <tr>\n",
              "      <th>10</th>\n",
              "      <td>carol king</td>\n",
              "      <td>0.184540</td>\n",
              "    </tr>\n",
              "    <tr>\n",
              "      <th>11</th>\n",
              "      <td>sing along</td>\n",
              "      <td>0.184540</td>\n",
              "    </tr>\n",
              "    <tr>\n",
              "      <th>12</th>\n",
              "      <td>storytelling</td>\n",
              "      <td>0.181225</td>\n",
              "    </tr>\n",
              "    <tr>\n",
              "      <th>13</th>\n",
              "      <td>and sing</td>\n",
              "      <td>0.181225</td>\n",
              "    </tr>\n",
              "    <tr>\n",
              "      <th>14</th>\n",
              "      <td>whole extended</td>\n",
              "      <td>0.181225</td>\n",
              "    </tr>\n",
              "    <tr>\n",
              "      <th>15</th>\n",
              "      <td>by heart</td>\n",
              "      <td>0.178516</td>\n",
              "    </tr>\n",
              "    <tr>\n",
              "      <th>16</th>\n",
              "      <td>knows these</td>\n",
              "      <td>0.176225</td>\n",
              "    </tr>\n",
              "    <tr>\n",
              "      <th>17</th>\n",
              "      <td>family knows</td>\n",
              "      <td>0.172491</td>\n",
              "    </tr>\n",
              "    <tr>\n",
              "      <th>18</th>\n",
              "      <td>and music</td>\n",
              "      <td>0.170925</td>\n",
              "    </tr>\n",
              "    <tr>\n",
              "      <th>19</th>\n",
              "      <td>songs</td>\n",
              "      <td>0.159900</td>\n",
              "    </tr>\n",
              "    <tr>\n",
              "      <th>20</th>\n",
              "      <td>movie or</td>\n",
              "      <td>0.155104</td>\n",
              "    </tr>\n",
              "    <tr>\n",
              "      <th>21</th>\n",
              "      <td>carol</td>\n",
              "      <td>0.152740</td>\n",
              "    </tr>\n",
              "    <tr>\n",
              "      <th>22</th>\n",
              "      <td>track and</td>\n",
              "      <td>0.150702</td>\n",
              "    </tr>\n",
              "    <tr>\n",
              "      <th>23</th>\n",
              "      <td>extended family</td>\n",
              "      <td>0.143575</td>\n",
              "    </tr>\n",
              "    <tr>\n",
              "      <th>24</th>\n",
              "      <td>sing</td>\n",
              "      <td>0.135704</td>\n",
              "    </tr>\n",
              "  </tbody>\n",
              "</table>\n",
              "</div>"
            ],
            "text/plain": [
              "             features     tfidf\n",
              "0          with carol  0.194840\n",
              "1            songs by  0.194840\n",
              "2        quality kids  0.194840\n",
              "3   kids storytelling  0.194840\n",
              "4       heart quality  0.194840\n",
              "5            or sound  0.194840\n",
              "6    storytelling and  0.194840\n",
              "7           king this  0.188815\n",
              "8         these songs  0.188815\n",
              "9         sound track  0.188815\n",
              "10         carol king  0.184540\n",
              "11         sing along  0.184540\n",
              "12       storytelling  0.181225\n",
              "13           and sing  0.181225\n",
              "14     whole extended  0.181225\n",
              "15           by heart  0.178516\n",
              "16        knows these  0.176225\n",
              "17       family knows  0.172491\n",
              "18          and music  0.170925\n",
              "19              songs  0.159900\n",
              "20           movie or  0.155104\n",
              "21              carol  0.152740\n",
              "22          track and  0.150702\n",
              "23    extended family  0.143575\n",
              "24               sing  0.135704"
            ]
          },
          "metadata": {
            "tags": []
          },
          "execution_count": 42
        }
      ]
    },
    {
      "cell_type": "code",
      "metadata": {
        "id": "snlPApsg_5_8",
        "colab_type": "code",
        "outputId": "4026831b-d506-4fd8-b2ce-a8689353df95",
        "colab": {
          "base_uri": "https://localhost:8080/",
          "height": 360
        }
      },
      "source": [
        "# Using Google News Word2Vectors\n",
        "import gensim\n",
        "from gensim.models import Word2Vec\n",
        "from gensim.models import KeyedVectors\n",
        "import pickle\n",
        "\n",
        "# in this project we are using a pretrained model by google\n",
        "# its 3.3G file, once you load this into your memory \n",
        "# it occupies ~9Gb, so please do this step only if you have >12G of ram\n",
        "# we will provide a pickle file wich contains a dict , \n",
        "# and it contains all our courpus words as keys and  model[word] as values\n",
        "# To use this code-snippet, download \"GoogleNews-vectors-negative300.bin\" \n",
        "# from https://drive.google.com/file/d/0B7XkCwpI5KDYNlNUTTlSS21pQmM/edit\n",
        "# it's 1.9GB in size.\n",
        "\n",
        "\n",
        "model = KeyedVectors.load_word2vec_format('/content/drive/My Drive/GoogleNews-vectors-negative300.bin.gz', binary=True)\n"
      ],
      "execution_count": 43,
      "outputs": [
        {
          "output_type": "error",
          "ename": "OSError",
          "evalue": "ignored",
          "traceback": [
            "\u001b[0;31m---------------------------------------------------------------------------\u001b[0m",
            "\u001b[0;31mOSError\u001b[0m                                   Traceback (most recent call last)",
            "\u001b[0;32m<ipython-input-43-afaf23e0c8a7>\u001b[0m in \u001b[0;36m<module>\u001b[0;34m()\u001b[0m\n\u001b[1;32m     14\u001b[0m \u001b[0;34m\u001b[0m\u001b[0m\n\u001b[1;32m     15\u001b[0m \u001b[0;34m\u001b[0m\u001b[0m\n\u001b[0;32m---> 16\u001b[0;31m \u001b[0mmodel\u001b[0m \u001b[0;34m=\u001b[0m \u001b[0mKeyedVectors\u001b[0m\u001b[0;34m.\u001b[0m\u001b[0mload_word2vec_format\u001b[0m\u001b[0;34m(\u001b[0m\u001b[0;34m'/content/drive/My Drive/GoogleNews-vectors-negative300.bin.gz'\u001b[0m\u001b[0;34m,\u001b[0m \u001b[0mbinary\u001b[0m\u001b[0;34m=\u001b[0m\u001b[0;32mTrue\u001b[0m\u001b[0;34m)\u001b[0m\u001b[0;34m\u001b[0m\u001b[0;34m\u001b[0m\u001b[0m\n\u001b[0m",
            "\u001b[0;32m/usr/local/lib/python3.6/dist-packages/gensim/models/keyedvectors.py\u001b[0m in \u001b[0;36mload_word2vec_format\u001b[0;34m(cls, fname, fvocab, binary, encoding, unicode_errors, limit, datatype)\u001b[0m\n\u001b[1;32m   1436\u001b[0m         return _load_word2vec_format(\n\u001b[1;32m   1437\u001b[0m             \u001b[0mcls\u001b[0m\u001b[0;34m,\u001b[0m \u001b[0mfname\u001b[0m\u001b[0;34m,\u001b[0m \u001b[0mfvocab\u001b[0m\u001b[0;34m=\u001b[0m\u001b[0mfvocab\u001b[0m\u001b[0;34m,\u001b[0m \u001b[0mbinary\u001b[0m\u001b[0;34m=\u001b[0m\u001b[0mbinary\u001b[0m\u001b[0;34m,\u001b[0m \u001b[0mencoding\u001b[0m\u001b[0;34m=\u001b[0m\u001b[0mencoding\u001b[0m\u001b[0;34m,\u001b[0m \u001b[0municode_errors\u001b[0m\u001b[0;34m=\u001b[0m\u001b[0municode_errors\u001b[0m\u001b[0;34m,\u001b[0m\u001b[0;34m\u001b[0m\u001b[0;34m\u001b[0m\u001b[0m\n\u001b[0;32m-> 1438\u001b[0;31m             limit=limit, datatype=datatype)\n\u001b[0m\u001b[1;32m   1439\u001b[0m \u001b[0;34m\u001b[0m\u001b[0m\n\u001b[1;32m   1440\u001b[0m     \u001b[0;32mdef\u001b[0m \u001b[0mget_keras_embedding\u001b[0m\u001b[0;34m(\u001b[0m\u001b[0mself\u001b[0m\u001b[0;34m,\u001b[0m \u001b[0mtrain_embeddings\u001b[0m\u001b[0;34m=\u001b[0m\u001b[0;32mFalse\u001b[0m\u001b[0;34m)\u001b[0m\u001b[0;34m:\u001b[0m\u001b[0;34m\u001b[0m\u001b[0;34m\u001b[0m\u001b[0m\n",
            "\u001b[0;32m/usr/local/lib/python3.6/dist-packages/gensim/models/utils_any2vec.py\u001b[0m in \u001b[0;36m_load_word2vec_format\u001b[0;34m(cls, fname, fvocab, binary, encoding, unicode_errors, limit, datatype)\u001b[0m\n\u001b[1;32m    169\u001b[0m \u001b[0;34m\u001b[0m\u001b[0m\n\u001b[1;32m    170\u001b[0m     \u001b[0mlogger\u001b[0m\u001b[0;34m.\u001b[0m\u001b[0minfo\u001b[0m\u001b[0;34m(\u001b[0m\u001b[0;34m\"loading projection weights from %s\"\u001b[0m\u001b[0;34m,\u001b[0m \u001b[0mfname\u001b[0m\u001b[0;34m)\u001b[0m\u001b[0;34m\u001b[0m\u001b[0;34m\u001b[0m\u001b[0m\n\u001b[0;32m--> 171\u001b[0;31m     \u001b[0;32mwith\u001b[0m \u001b[0mutils\u001b[0m\u001b[0;34m.\u001b[0m\u001b[0msmart_open\u001b[0m\u001b[0;34m(\u001b[0m\u001b[0mfname\u001b[0m\u001b[0;34m)\u001b[0m \u001b[0;32mas\u001b[0m \u001b[0mfin\u001b[0m\u001b[0;34m:\u001b[0m\u001b[0;34m\u001b[0m\u001b[0;34m\u001b[0m\u001b[0m\n\u001b[0m\u001b[1;32m    172\u001b[0m         \u001b[0mheader\u001b[0m \u001b[0;34m=\u001b[0m \u001b[0mutils\u001b[0m\u001b[0;34m.\u001b[0m\u001b[0mto_unicode\u001b[0m\u001b[0;34m(\u001b[0m\u001b[0mfin\u001b[0m\u001b[0;34m.\u001b[0m\u001b[0mreadline\u001b[0m\u001b[0;34m(\u001b[0m\u001b[0;34m)\u001b[0m\u001b[0;34m,\u001b[0m \u001b[0mencoding\u001b[0m\u001b[0;34m=\u001b[0m\u001b[0mencoding\u001b[0m\u001b[0;34m)\u001b[0m\u001b[0;34m\u001b[0m\u001b[0;34m\u001b[0m\u001b[0m\n\u001b[1;32m    173\u001b[0m         \u001b[0mvocab_size\u001b[0m\u001b[0;34m,\u001b[0m \u001b[0mvector_size\u001b[0m \u001b[0;34m=\u001b[0m \u001b[0;34m(\u001b[0m\u001b[0mint\u001b[0m\u001b[0;34m(\u001b[0m\u001b[0mx\u001b[0m\u001b[0;34m)\u001b[0m \u001b[0;32mfor\u001b[0m \u001b[0mx\u001b[0m \u001b[0;32min\u001b[0m \u001b[0mheader\u001b[0m\u001b[0;34m.\u001b[0m\u001b[0msplit\u001b[0m\u001b[0;34m(\u001b[0m\u001b[0;34m)\u001b[0m\u001b[0;34m)\u001b[0m  \u001b[0;31m# throws for invalid file format\u001b[0m\u001b[0;34m\u001b[0m\u001b[0;34m\u001b[0m\u001b[0m\n",
            "\u001b[0;32m/usr/local/lib/python3.6/dist-packages/smart_open/smart_open_lib.py\u001b[0m in \u001b[0;36msmart_open\u001b[0;34m(uri, mode, **kw)\u001b[0m\n\u001b[1;32m    464\u001b[0m \u001b[0;34m\u001b[0m\u001b[0m\n\u001b[1;32m    465\u001b[0m     return open(uri, mode, ignore_ext=ignore_extension,\n\u001b[0;32m--> 466\u001b[0;31m                 transport_params=transport_params, **scrubbed_kwargs)\n\u001b[0m\u001b[1;32m    467\u001b[0m \u001b[0;34m\u001b[0m\u001b[0m\n\u001b[1;32m    468\u001b[0m \u001b[0;34m\u001b[0m\u001b[0m\n",
            "\u001b[0;32m/usr/local/lib/python3.6/dist-packages/smart_open/smart_open_lib.py\u001b[0m in \u001b[0;36mopen\u001b[0;34m(uri, mode, buffering, encoding, errors, newline, closefd, opener, ignore_ext, transport_params)\u001b[0m\n\u001b[1;32m    351\u001b[0m     \u001b[0;32mexcept\u001b[0m \u001b[0mKeyError\u001b[0m\u001b[0;34m:\u001b[0m\u001b[0;34m\u001b[0m\u001b[0;34m\u001b[0m\u001b[0m\n\u001b[1;32m    352\u001b[0m         \u001b[0mbinary_mode\u001b[0m \u001b[0;34m=\u001b[0m \u001b[0mmode\u001b[0m\u001b[0;34m\u001b[0m\u001b[0;34m\u001b[0m\u001b[0m\n\u001b[0;32m--> 353\u001b[0;31m     \u001b[0mbinary\u001b[0m\u001b[0;34m,\u001b[0m \u001b[0mfilename\u001b[0m \u001b[0;34m=\u001b[0m \u001b[0m_open_binary_stream\u001b[0m\u001b[0;34m(\u001b[0m\u001b[0muri\u001b[0m\u001b[0;34m,\u001b[0m \u001b[0mbinary_mode\u001b[0m\u001b[0;34m,\u001b[0m \u001b[0mtransport_params\u001b[0m\u001b[0;34m)\u001b[0m\u001b[0;34m\u001b[0m\u001b[0;34m\u001b[0m\u001b[0m\n\u001b[0m\u001b[1;32m    354\u001b[0m     \u001b[0;32mif\u001b[0m \u001b[0mignore_ext\u001b[0m\u001b[0;34m:\u001b[0m\u001b[0;34m\u001b[0m\u001b[0;34m\u001b[0m\u001b[0m\n\u001b[1;32m    355\u001b[0m         \u001b[0mdecompressed\u001b[0m \u001b[0;34m=\u001b[0m \u001b[0mbinary\u001b[0m\u001b[0;34m\u001b[0m\u001b[0;34m\u001b[0m\u001b[0m\n",
            "\u001b[0;32m/usr/local/lib/python3.6/dist-packages/smart_open/smart_open_lib.py\u001b[0m in \u001b[0;36m_open_binary_stream\u001b[0;34m(uri, mode, transport_params)\u001b[0m\n\u001b[1;32m    554\u001b[0m \u001b[0;34m\u001b[0m\u001b[0m\n\u001b[1;32m    555\u001b[0m         \u001b[0;32mif\u001b[0m \u001b[0mparsed_uri\u001b[0m\u001b[0;34m.\u001b[0m\u001b[0mscheme\u001b[0m \u001b[0;34m==\u001b[0m \u001b[0;34m\"file\"\u001b[0m\u001b[0;34m:\u001b[0m\u001b[0;34m\u001b[0m\u001b[0;34m\u001b[0m\u001b[0m\n\u001b[0;32m--> 556\u001b[0;31m             \u001b[0mfobj\u001b[0m \u001b[0;34m=\u001b[0m \u001b[0mio\u001b[0m\u001b[0;34m.\u001b[0m\u001b[0mopen\u001b[0m\u001b[0;34m(\u001b[0m\u001b[0mparsed_uri\u001b[0m\u001b[0;34m.\u001b[0m\u001b[0muri_path\u001b[0m\u001b[0;34m,\u001b[0m \u001b[0mmode\u001b[0m\u001b[0;34m)\u001b[0m\u001b[0;34m\u001b[0m\u001b[0;34m\u001b[0m\u001b[0m\n\u001b[0m\u001b[1;32m    557\u001b[0m             \u001b[0;32mreturn\u001b[0m \u001b[0mfobj\u001b[0m\u001b[0;34m,\u001b[0m \u001b[0mfilename\u001b[0m\u001b[0;34m\u001b[0m\u001b[0;34m\u001b[0m\u001b[0m\n\u001b[1;32m    558\u001b[0m         \u001b[0;32melif\u001b[0m \u001b[0mparsed_uri\u001b[0m\u001b[0;34m.\u001b[0m\u001b[0mscheme\u001b[0m \u001b[0;32min\u001b[0m \u001b[0msmart_open_ssh\u001b[0m\u001b[0;34m.\u001b[0m\u001b[0mSCHEMES\u001b[0m\u001b[0;34m:\u001b[0m\u001b[0;34m\u001b[0m\u001b[0;34m\u001b[0m\u001b[0m\n",
            "\u001b[0;31mOSError\u001b[0m: [Errno 38] Function not implemented: '/content/drive/My Drive/GoogleNews-vectors-negative300.bin.gz'"
          ]
        }
      ]
    },
    {
      "cell_type": "code",
      "metadata": {
        "id": "JaMmCg2WIzct",
        "colab_type": "code",
        "colab": {}
      },
      "source": [
        "import pickle\n",
        "pickle_out = open(\"word2vec_model\",\"wb\")\n",
        "pickle.dump(model,pickle_out)\n",
        "pickle_out.close()"
      ],
      "execution_count": 0,
      "outputs": []
    },
    {
      "cell_type": "code",
      "metadata": {
        "id": "4an5wmBENdnY",
        "colab_type": "code",
        "outputId": "36f5ba69-164b-468c-dd60-4fd79ba2c811",
        "colab": {
          "base_uri": "https://localhost:8080/",
          "height": 34
        }
      },
      "source": [
        "from google.colab import drive\n",
        "drive.mount('/content/drive')"
      ],
      "execution_count": 0,
      "outputs": [
        {
          "output_type": "stream",
          "text": [
            "Mounted at /content/drive\n"
          ],
          "name": "stdout"
        }
      ]
    },
    {
      "cell_type": "code",
      "metadata": {
        "id": "u_Zc390tJiGd",
        "colab_type": "code",
        "colab": {}
      },
      "source": [
        "pickle_in=open(\"word2vec_model\",\"rb\")\n",
        "model = pickle.load(pickle_in)"
      ],
      "execution_count": 0,
      "outputs": []
    },
    {
      "cell_type": "code",
      "metadata": {
        "id": "ok69M5cvPQ0V",
        "colab_type": "code",
        "outputId": "d298155a-d45e-448f-bd71-da87c19579c4",
        "colab": {
          "base_uri": "https://localhost:8080/",
          "height": 163
        }
      },
      "source": [
        "model.wv['computer']\n"
      ],
      "execution_count": 0,
      "outputs": [
        {
          "output_type": "error",
          "ename": "NameError",
          "evalue": "ignored",
          "traceback": [
            "\u001b[0;31m---------------------------------------------------------------------------\u001b[0m",
            "\u001b[0;31mNameError\u001b[0m                                 Traceback (most recent call last)",
            "\u001b[0;32m<ipython-input-54-f5e497122d5c>\u001b[0m in \u001b[0;36m<module>\u001b[0;34m()\u001b[0m\n\u001b[0;32m----> 1\u001b[0;31m \u001b[0mmodel\u001b[0m\u001b[0;34m.\u001b[0m\u001b[0mwv\u001b[0m\u001b[0;34m[\u001b[0m\u001b[0;34m'computer'\u001b[0m\u001b[0;34m]\u001b[0m\u001b[0;34m\u001b[0m\u001b[0;34m\u001b[0m\u001b[0m\n\u001b[0m",
            "\u001b[0;31mNameError\u001b[0m: name 'model' is not defined"
          ]
        }
      ]
    },
    {
      "cell_type": "code",
      "metadata": {
        "id": "gXuN_qAdPUB2",
        "colab_type": "code",
        "outputId": "ee32bd6a-cf8c-4881-c33a-c3879d00f11f",
        "colab": {
          "base_uri": "https://localhost:8080/",
          "height": 122
        }
      },
      "source": [
        "model.wv.similarity('woman', 'man')\n"
      ],
      "execution_count": 0,
      "outputs": [
        {
          "output_type": "stream",
          "text": [
            "/usr/local/lib/python3.6/dist-packages/ipykernel_launcher.py:1: DeprecationWarning: Call to deprecated `wv` (Attribute will be removed in 4.0.0, use self instead).\n",
            "  \"\"\"Entry point for launching an IPython kernel.\n",
            "/usr/local/lib/python3.6/dist-packages/gensim/matutils.py:737: FutureWarning: Conversion of the second argument of issubdtype from `int` to `np.signedinteger` is deprecated. In future, it will be treated as `np.int64 == np.dtype(int).type`.\n",
            "  if np.issubdtype(vec.dtype, np.int):\n"
          ],
          "name": "stderr"
        },
        {
          "output_type": "execute_result",
          "data": {
            "text/plain": [
              "0.76640123"
            ]
          },
          "metadata": {
            "tags": []
          },
          "execution_count": 14
        }
      ]
    },
    {
      "cell_type": "code",
      "metadata": {
        "id": "2dqKYZ4mQOyO",
        "colab_type": "code",
        "outputId": "23c9218c-0e22-47c5-e51f-7e252d1704c4",
        "colab": {
          "base_uri": "https://localhost:8080/",
          "height": 163
        }
      },
      "source": [
        "model.wv.most_similar('woman')\n"
      ],
      "execution_count": 0,
      "outputs": [
        {
          "output_type": "error",
          "ename": "NameError",
          "evalue": "ignored",
          "traceback": [
            "\u001b[0;31m---------------------------------------------------------------------------\u001b[0m",
            "\u001b[0;31mNameError\u001b[0m                                 Traceback (most recent call last)",
            "\u001b[0;32m<ipython-input-1-23cb00bceb64>\u001b[0m in \u001b[0;36m<module>\u001b[0;34m()\u001b[0m\n\u001b[0;32m----> 1\u001b[0;31m \u001b[0mmodel\u001b[0m\u001b[0;34m.\u001b[0m\u001b[0mwv\u001b[0m\u001b[0;34m.\u001b[0m\u001b[0mmost_similar\u001b[0m\u001b[0;34m(\u001b[0m\u001b[0;34m'woman'\u001b[0m\u001b[0;34m)\u001b[0m\u001b[0;34m\u001b[0m\u001b[0;34m\u001b[0m\u001b[0m\n\u001b[0m",
            "\u001b[0;31mNameError\u001b[0m: name 'model' is not defined"
          ]
        }
      ]
    },
    {
      "cell_type": "code",
      "metadata": {
        "id": "IovyING0QtDh",
        "colab_type": "code",
        "colab": {}
      },
      "source": [
        "model.wv.most_similar('tasti')"
      ],
      "execution_count": 0,
      "outputs": []
    },
    {
      "cell_type": "code",
      "metadata": {
        "id": "6hvy5vTRQxNm",
        "colab_type": "code",
        "colab": {}
      },
      "source": [
        "model.wv.most_similar('tasty')"
      ],
      "execution_count": 0,
      "outputs": []
    },
    {
      "cell_type": "code",
      "metadata": {
        "id": "74I9rYmvR0f1",
        "colab_type": "code",
        "colab": {}
      },
      "source": [
        "# Train your own Word2Vec model using your own text corpus\n",
        "import gensim\n",
        "i=0\n",
        "list_of_sent=[]\n",
        "for sent in final['Text'].values:\n",
        "    filtered_sentence=[]\n",
        "    sent=cleanhtml(sent)\n",
        "    for w in sent.split():\n",
        "        for cleaned_words in cleanpunc(w).split():\n",
        "            if(cleaned_words.isalpha()):    \n",
        "                filtered_sentence.append(cleaned_words.lower())\n",
        "            else:\n",
        "                continue \n",
        "    list_of_sent.append(filtered_sentence)"
      ],
      "execution_count": 0,
      "outputs": []
    },
    {
      "cell_type": "code",
      "metadata": {
        "id": "-mpv7zOMnG-n",
        "colab_type": "code",
        "colab": {}
      },
      "source": [
        "# Train your own Word2Vec model using your own text corpus\n",
        "import gensim\n",
        "i=0\n",
        "list_of_sent=[]\n",
        "for sent in final['Text'].values:\n",
        "    filtered_sentence=[]\n",
        "    sent=cleanhtml(sent)\n",
        "    for w in sent.split():\n",
        "        for cleaned_words in cleanpunc(w).split():\n",
        "            if(cleaned_words.isalpha()):    \n",
        "                filtered_sentence.append(cleaned_words.lower())\n",
        "            else:\n",
        "                continue \n",
        "    list_of_sent.append(filtered_sentence)"
      ],
      "execution_count": 0,
      "outputs": []
    },
    {
      "cell_type": "code",
      "metadata": {
        "id": "Bz90vnhCn39O",
        "colab_type": "code",
        "outputId": "2d7d5fb1-2953-472d-e265-b917d03c1b0a",
        "colab": {
          "base_uri": "https://localhost:8080/",
          "height": 88
        }
      },
      "source": [
        "print(final['Text'].values[0])\n",
        "print(\"*****************************************************************\")\n",
        "print(list_of_sent[0])"
      ],
      "execution_count": 45,
      "outputs": [
        {
          "output_type": "stream",
          "text": [
            "this witty little book makes my son laugh at loud. i recite it in the car as we're driving along and he always can sing the refrain. he's learned about whales, India, drooping roses:  i love all the new words this book  introduces and the silliness of it all.  this is a classic book i am  willing to bet my son will STILL be able to recite from memory when he is  in college\n",
            "*****************************************************************\n",
            "['this', 'witty', 'little', 'book', 'makes', 'my', 'son', 'laugh', 'at', 'loud', 'i', 'recite', 'it', 'in', 'the', 'car', 'as', 'were', 'driving', 'along', 'and', 'he', 'always', 'can', 'sing', 'the', 'refrain', 'hes', 'learned', 'about', 'whales', 'india', 'drooping', 'i', 'love', 'all', 'the', 'new', 'words', 'this', 'book', 'introduces', 'and', 'the', 'silliness', 'of', 'it', 'all', 'this', 'is', 'a', 'classic', 'book', 'i', 'am', 'willing', 'to', 'bet', 'my', 'son', 'will', 'still', 'be', 'able', 'to', 'recite', 'from', 'memory', 'when', 'he', 'is', 'in', 'college']\n"
          ],
          "name": "stdout"
        }
      ]
    },
    {
      "cell_type": "code",
      "metadata": {
        "id": "hj8UN_VVn33W",
        "colab_type": "code",
        "colab": {}
      },
      "source": [
        "w2v_model=gensim.models.Word2Vec(list_of_sent,min_count=5,size=50, workers=4)\n"
      ],
      "execution_count": 0,
      "outputs": []
    },
    {
      "cell_type": "code",
      "metadata": {
        "id": "uiTO_dXCplBa",
        "colab_type": "code",
        "outputId": "218c6d40-b01d-487e-e793-bbde7489ed68",
        "colab": {
          "base_uri": "https://localhost:8080/",
          "height": 34
        }
      },
      "source": [
        "words = list(w2v_model.wv.vocab)\n",
        "print(len(words))\n"
      ],
      "execution_count": 47,
      "outputs": [
        {
          "output_type": "stream",
          "text": [
            "33783\n"
          ],
          "name": "stdout"
        }
      ]
    },
    {
      "cell_type": "code",
      "metadata": {
        "id": "nUB7SZ9Ppk4i",
        "colab_type": "code",
        "outputId": "4fb52fbd-1838-40f8-9e97-7a6588f063da",
        "colab": {
          "base_uri": "https://localhost:8080/",
          "height": 187
        }
      },
      "source": [
        "w2v_model.wv.most_similar('tasty')\n"
      ],
      "execution_count": 48,
      "outputs": [
        {
          "output_type": "execute_result",
          "data": {
            "text/plain": [
              "[('tastey', 0.9199376702308655),\n",
              " ('yummy', 0.858527421951294),\n",
              " ('satisfying', 0.8503388166427612),\n",
              " ('filling', 0.8282797336578369),\n",
              " ('delicious', 0.817266583442688),\n",
              " ('flavorful', 0.7996473908424377),\n",
              " ('tasteful', 0.7905883193016052),\n",
              " ('versatile', 0.7589945197105408),\n",
              " ('addicting', 0.7565521001815796),\n",
              " ('delectable', 0.7511836290359497)]"
            ]
          },
          "metadata": {
            "tags": []
          },
          "execution_count": 48
        }
      ]
    },
    {
      "cell_type": "code",
      "metadata": {
        "id": "YN2iqDoFpqu-",
        "colab_type": "code",
        "outputId": "9773456e-b17b-4ff9-9a85-6b36d9fd5490",
        "colab": {
          "base_uri": "https://localhost:8080/",
          "height": 187
        }
      },
      "source": [
        "w2v_model.wv.most_similar('like')\n"
      ],
      "execution_count": 49,
      "outputs": [
        {
          "output_type": "execute_result",
          "data": {
            "text/plain": [
              "[('resemble', 0.7238313555717468),\n",
              " ('dislike', 0.6384875774383545),\n",
              " ('mean', 0.6358470916748047),\n",
              " ('prefer', 0.6350363492965698),\n",
              " ('overpower', 0.6171197295188904),\n",
              " ('overwhelm', 0.6078854203224182),\n",
              " ('think', 0.604475736618042),\n",
              " ('alright', 0.6040796041488647),\n",
              " ('miss', 0.5975660681724548),\n",
              " ('enjoy', 0.5954923033714294)]"
            ]
          },
          "metadata": {
            "tags": []
          },
          "execution_count": 49
        }
      ]
    },
    {
      "cell_type": "code",
      "metadata": {
        "id": "0hnqdmedpxWD",
        "colab_type": "code",
        "outputId": "af0a80bb-f261-48ff-d8b3-1d093bb82f71",
        "colab": {
          "base_uri": "https://localhost:8080/",
          "height": 34
        }
      },
      "source": [
        "count_vect_feat = count_vect.get_feature_names() # list of words in the BoW\n",
        "count_vect_feat.index('like')\n",
        "print(count_vect_feat[64055])\n"
      ],
      "execution_count": 50,
      "outputs": [
        {
          "output_type": "stream",
          "text": [
            "activity great\n"
          ],
          "name": "stdout"
        }
      ]
    },
    {
      "cell_type": "code",
      "metadata": {
        "id": "mZPdDS5pqGbu",
        "colab_type": "code",
        "outputId": "63fc2fe3-54aa-41ec-a769-2d40aff66fa7",
        "colab": {
          "base_uri": "https://localhost:8080/",
          "height": 34
        }
      },
      "source": [
        "w2v_model.wv.similarity('woman','man')\n"
      ],
      "execution_count": 51,
      "outputs": [
        {
          "output_type": "execute_result",
          "data": {
            "text/plain": [
              "0.69589084"
            ]
          },
          "metadata": {
            "tags": []
          },
          "execution_count": 51
        }
      ]
    },
    {
      "cell_type": "markdown",
      "metadata": {
        "id": "TI4IrNVyqO2R",
        "colab_type": "text"
      },
      "source": [
        "Explanation: 0-> both are different words 1-> exact similar words\n"
      ]
    },
    {
      "cell_type": "code",
      "metadata": {
        "id": "QPtdUnSKqPtE",
        "colab_type": "code",
        "outputId": "4e970a6e-eb25-4602-9c8b-0c23d5136179",
        "colab": {
          "base_uri": "https://localhost:8080/",
          "height": 34
        }
      },
      "source": [
        "# getting feature names from bag of words, count_vect has bow from the BOW code\n",
        "\n",
        "count_vect_features = count_vect.get_feature_names() \n",
        "count_vect_features.index('like')\n"
      ],
      "execution_count": 52,
      "outputs": [
        {
          "output_type": "execute_result",
          "data": {
            "text/plain": [
              "1442686"
            ]
          },
          "metadata": {
            "tags": []
          },
          "execution_count": 52
        }
      ]
    },
    {
      "cell_type": "code",
      "metadata": {
        "id": "i1S77hF6qZTN",
        "colab_type": "code",
        "outputId": "696c213e-18d3-4b8b-ba29-d009eafd9ca2",
        "colab": {
          "base_uri": "https://localhost:8080/",
          "height": 34
        }
      },
      "source": [
        "count_vect_features[64055]\n"
      ],
      "execution_count": 0,
      "outputs": [
        {
          "output_type": "execute_result",
          "data": {
            "text/plain": [
              "'activity great'"
            ]
          },
          "metadata": {
            "tags": []
          },
          "execution_count": 64
        }
      ]
    },
    {
      "cell_type": "markdown",
      "metadata": {
        "id": "IUpgRjhRq7mv",
        "colab_type": "text"
      },
      "source": [
        "Avg W2v, TFIDF-W2v\n",
        "\n",
        "Avergae W2V is ntg but if given a sentence it calculates the w2v of every word in the sentence and sum it up then divide by no.of words which give me the avg W2V of the 'SENTENCE'.\n",
        "\n",
        "Note: Avg W2V is used to get the Sentence Vector.\n",
        "\n",
        "TFIDF weighted W2V we will calc w2v of a word in the sentece and multiply it with tfidf of that word, this is done for every word and is summed up and divided by sum of tfidf of every word.\n",
        "\n",
        "Avg W2v = sum( w2v(wi) ) / (no.of words in the sentence)\n",
        "Tf-IDF Weighted W2V = sum( ti * w2v(wi) ) / sum(ti)\n",
        "Here 'ti' is tfidf of the word.\n",
        "\n"
      ]
    },
    {
      "cell_type": "code",
      "metadata": {
        "id": "Q8382G1jq8_b",
        "colab_type": "code",
        "outputId": "be1a3d96-910a-4bda-8a0f-f4b45af868be",
        "colab": {
          "base_uri": "https://localhost:8080/",
          "height": 51
        }
      },
      "source": [
        "# average Word2Vec\n",
        "# compute average word2vec for each review.\n",
        "sent_vectors = []; # the avg-w2v for each sentence/review is stored in this list\n",
        "for sent in list_of_sent: # for each review/sentence\n",
        "    sent_vec = np.zeros(50) # as word vectors are of 50 length\n",
        "    cnt_words =0; # num of words with a valid vector in the sentence/review\n",
        "    for word in sent: # for each word in a review/sentence\n",
        "        try:\n",
        "            vec = w2v_model.wv[word]\n",
        "            sent_vec += vec\n",
        "            cnt_words += 1\n",
        "        except:\n",
        "            pass\n",
        "    sent_vec /= cnt_words\n",
        "    sent_vectors.append(sent_vec)\n",
        "\n",
        "print(len(sent_vectors)) #no.of reviews\n",
        "print(len(sent_vectors[0])) #no.of dimensions"
      ],
      "execution_count": 53,
      "outputs": [
        {
          "output_type": "stream",
          "text": [
            "364171\n",
            "50\n"
          ],
          "name": "stdout"
        }
      ]
    },
    {
      "cell_type": "code",
      "metadata": {
        "id": "ODVo6vl2rfFw",
        "colab_type": "code",
        "colab": {}
      },
      "source": [
        "import pickle\n",
        "\n",
        "\n",
        "pickle_out = open(\"BOW_tfidf_avgW2V_TfidfW2V.pickle\",\"wb\")\n",
        "\n",
        "pickle.dump(count_vect,pickle_out) #BOW\n",
        "pickle.dump(final_counts,pickle_out) #BOW\n",
        "\n",
        "pickle.dump(tf_idf_vect,pickle_out) #tfidf\n",
        "pickle.dump(final_tf_idf,pickle_out) #tfidf\n",
        "pickle.dump(features,pickle_out) #tfidf feature/ unique words\n",
        "\n",
        "\n",
        "pickle.dump(w2v_model,pickle_out) #custom W2V model\n",
        "pickle.dump(words,pickle_out) #custom W2V model\n",
        "\n",
        "pickle.dump(sent_vectors,pickle_out) #avg W2V model\n"
      ],
      "execution_count": 0,
      "outputs": []
    },
    {
      "cell_type": "code",
      "metadata": {
        "id": "3G_QO6SyryvH",
        "colab_type": "code",
        "outputId": "703d4351-446e-4390-9f79-688f2f13220a",
        "colab": {
          "base_uri": "https://localhost:8080/",
          "height": 197
        }
      },
      "source": [
        "import pickle\n",
        "pickleIn = open(\"listOfSentAfterCleaninhHTML_Punc.pickle\",\"rb\")\n",
        "list_of_sent = pickle.load(pickleIn)"
      ],
      "execution_count": 0,
      "outputs": [
        {
          "output_type": "error",
          "ename": "FileNotFoundError",
          "evalue": "ignored",
          "traceback": [
            "\u001b[0;31m---------------------------------------------------------------------------\u001b[0m",
            "\u001b[0;31mFileNotFoundError\u001b[0m                         Traceback (most recent call last)",
            "\u001b[0;32m<ipython-input-67-e1ad6521fe36>\u001b[0m in \u001b[0;36m<module>\u001b[0;34m()\u001b[0m\n\u001b[1;32m      1\u001b[0m \u001b[0;32mimport\u001b[0m \u001b[0mpickle\u001b[0m\u001b[0;34m\u001b[0m\u001b[0;34m\u001b[0m\u001b[0m\n\u001b[0;32m----> 2\u001b[0;31m \u001b[0mpickleIn\u001b[0m \u001b[0;34m=\u001b[0m \u001b[0mopen\u001b[0m\u001b[0;34m(\u001b[0m\u001b[0;34m\"listOfSentAfterCleaninhHTML_Punc.pickle\"\u001b[0m\u001b[0;34m,\u001b[0m\u001b[0;34m\"rb\"\u001b[0m\u001b[0;34m)\u001b[0m\u001b[0;34m\u001b[0m\u001b[0;34m\u001b[0m\u001b[0m\n\u001b[0m\u001b[1;32m      3\u001b[0m \u001b[0mlist_of_sent\u001b[0m \u001b[0;34m=\u001b[0m \u001b[0mpickle\u001b[0m\u001b[0;34m.\u001b[0m\u001b[0mload\u001b[0m\u001b[0;34m(\u001b[0m\u001b[0mpickleIn\u001b[0m\u001b[0;34m)\u001b[0m\u001b[0;34m\u001b[0m\u001b[0;34m\u001b[0m\u001b[0m\n",
            "\u001b[0;31mFileNotFoundError\u001b[0m: [Errno 2] No such file or directory: 'listOfSentAfterCleaninhHTML_Punc.pickle'"
          ]
        }
      ]
    },
    {
      "cell_type": "code",
      "metadata": {
        "id": "yJIdB15UtEMK",
        "colab_type": "code",
        "colab": {}
      },
      "source": [
        "pickle_in = open(\"BOW_tfidf_avgW2V_TfidfW2V.pickle\",\"rb\")\n",
        "count_vect = pickle.load(pickle_in) #BOW\n",
        "final_counts = pickle.load(pickle_in) #BOW\n",
        "\n",
        "tf_idf_vect = pickle.load(pickle_in) #TFIDF\n",
        "final_tf_idf = pickle.load(pickle_in) #TFIDF\n",
        "features = pickle.load(pickle_in) #TFIDF\n",
        "\n",
        "w2v_model = pickle.load(pickle_in) #w2v\n",
        "words = pickle.load(pickle_in) #w2v\n",
        "\n",
        "sent_vectors = pickle.load(pickle_in) #avg W2V"
      ],
      "execution_count": 0,
      "outputs": []
    },
    {
      "cell_type": "code",
      "metadata": {
        "id": "d1iZjG03tECQ",
        "colab_type": "code",
        "colab": {}
      },
      "source": [
        "# TF-IDF weighted Word2Vec\n",
        "\n",
        "tfidf_feat = tf_idf_vect.get_feature_names() # tfidf words/col-names\n",
        "# final_tf_idf is the sparse matrix with row= sentence, col=word and cell_val = tfidf\n",
        "\n",
        "tfidf_sent_vectors = []; # the tfidf-w2v for each sentence/review is stored in this list\n",
        "row=0;\n",
        "for sent in list_of_sent: # for each review/sentence\n",
        "    sent_vec = np.zeros(50) # as word vectors are of zero length\n",
        "    weight_sum =0; # num of words with a valid vector in the sentence/review\n",
        "    for word in sent: # for each word in a review/sentence\n",
        "        try:\n",
        "            \n",
        "            vec = w2v_model.wv[word]\n",
        "            \n",
        "            # obtain the tf_idfidf of a word in a sentence/review\n",
        "            tfidf = final_tf_idf[row, tfidf_feat.index(word)]\n",
        "            \n",
        "            sent_vec += (vec * tfidf)\n",
        "            \n",
        "            weight_sum += tfidf\n",
        "        except:\n",
        "            pass\n",
        "    sent_vec /= weight_sum\n",
        "   \n",
        "    tfidf_sent_vectors.append(sent_vec)\n",
        "    row += 1\n"
      ],
      "execution_count": 0,
      "outputs": []
    },
    {
      "cell_type": "code",
      "metadata": {
        "id": "bPqNfOUMtslK",
        "colab_type": "code",
        "colab": {}
      },
      "source": [
        "pickle_out = open(\"WiightedTfidfW2V.pickle\",\"wb\")\n",
        "\n",
        "pickle.dump(tfidf_sent_vectors,pickle_out) #tfidf weighted w2v model\n",
        "\n",
        "\n",
        "\n",
        "pickle_out.close()\n"
      ],
      "execution_count": 0,
      "outputs": []
    },
    {
      "cell_type": "code",
      "metadata": {
        "id": "IxcUx2ZPRLx_",
        "colab_type": "code",
        "colab": {}
      },
      "source": [
        "len(tfidf_sent_vectors)\n"
      ],
      "execution_count": 0,
      "outputs": []
    },
    {
      "cell_type": "code",
      "metadata": {
        "id": "5kxCS6H8RMyj",
        "colab_type": "code",
        "colab": {}
      },
      "source": [
        "tfidf_sent_vectors\n"
      ],
      "execution_count": 0,
      "outputs": []
    },
    {
      "cell_type": "code",
      "metadata": {
        "id": "BZDV65bDRSwk",
        "colab_type": "code",
        "colab": {}
      },
      "source": [
        "# TF-IDF weighted Word2Vec\n",
        "tfidf_feat = tf_idf_vect.get_feature_names() # tfidf words/col-names\n",
        "# final_tf_idf is the sparse matrix with row= sentence, col=word and cell_val = tfidf\n",
        "\n",
        "tfidf_sent_vectors = []; # the tfidf-w2v for each sentence/review is stored in this list\n",
        "row=0;\n",
        "for sent in list_of_sent[0:10000]: # for each review/sentence\n",
        "    sent_vec = np.zeros(50) # as word vectors are of zero length\n",
        "    weight_sum =0; # num of words with a valid vector in the sentence/review\n",
        "    for word in sent: # for each word in a review/sentence\n",
        "        try:\n",
        "            \n",
        "            vec = w2v_model.wv[word]\n",
        "            \n",
        "            # obtain the tf_idfidf of a word in a sentence/review\n",
        "            tfidf = final_tf_idf[row, tfidf_feat.index(word)]\n",
        "            \n",
        "            sent_vec += (vec * tfidf)\n",
        "            \n",
        "            weight_sum += tfidf\n",
        "        except:\n",
        "            pass\n",
        "    sent_vec /= weight_sum\n",
        "   \n",
        "    tfidf_sent_vectors.append(sent_vec)\n",
        "    row += 1\n",
        "\n",
        "\n",
        "\n",
        "\n"
      ],
      "execution_count": 0,
      "outputs": []
    },
    {
      "cell_type": "code",
      "metadata": {
        "id": "4YoTcHgWWpHc",
        "colab_type": "code",
        "colab": {}
      },
      "source": [
        "pickle_out = open(\"WiightedTfidfW2V10kDatapoints.pickle\",\"wb\")\n",
        "\n",
        "pickle.dump(tfidf_sent_vectors,pickle_out) #tfidf weighted w2v model\n",
        "\n",
        "pickle_out.close()\n",
        "\n"
      ],
      "execution_count": 0,
      "outputs": []
    },
    {
      "cell_type": "code",
      "metadata": {
        "id": "wr9fKMYhWo_8",
        "colab_type": "code",
        "colab": {}
      },
      "source": [
        "\n",
        "len(tfidf_sent_vectors)\n",
        "\n"
      ],
      "execution_count": 0,
      "outputs": []
    }
  ]
}